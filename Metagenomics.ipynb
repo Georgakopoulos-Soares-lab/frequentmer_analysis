{
 "cells": [
  {
   "cell_type": "markdown",
   "id": "22cc6d92-dfb4-408d-a979-7a7aea500a31",
   "metadata": {
    "tags": []
   },
   "source": [
    "# MNGS"
   ]
  },
  {
   "cell_type": "markdown",
   "id": "2ba46669-602b-4257-b9c4-4ab55513fc94",
   "metadata": {},
   "source": [
    "### Imports"
   ]
  },
  {
   "cell_type": "code",
   "execution_count": 1,
   "id": "8bd6b21a-bce7-4ab6-8162-f9856fd694ce",
   "metadata": {},
   "outputs": [],
   "source": [
    "# We first import the necessary libraries\n",
    "\n",
    "# utilities\n",
    "from typing import List, Tuple, Dict\n",
    "import json\n",
    "from pathlib import Path\n",
    "from collections import defaultdict\n",
    "import pickle\n",
    "from tqdm import tqdm\n",
    "\n",
    "# data science\n",
    "from scipy.stats import mannwhitneyu\n",
    "import numpy as np\n",
    "from scipy import stats\n",
    "import pandas as pd\n",
    "\n",
    "# data visualization\n",
    "import matplotlib.pyplot as plt\n",
    "import seaborn as sns\n",
    "\n",
    "# machine learning\n",
    "from sklearn.preprocessing import MinMaxScaler\n",
    "from sklearn.metrics import roc_auc_score, precision_score, recall_score, f1_score\n",
    "from sklearn.metrics import roc_auc_score\n",
    "from sklearn.decomposition import PCA\n",
    "from sklearn.linear_model import LogisticRegression\n",
    "from xgboost import XGBClassifier"
   ]
  },
  {
   "cell_type": "markdown",
   "id": "3e1ded79-c546-49e1-ac60-23d5ac627427",
   "metadata": {},
   "source": [
    "### Loading training data\n",
    "\n",
    "First we create a function which creates the training dataframe.\n",
    "\n",
    "Notice that during the extraction phase, we saved the frequentmers in pickled binary files. \n",
    "\n",
    "Each key is a frequentmer, which points to a list of sample files which contained the frequentmer.\n",
    "\n",
    "As training data, we want to create a dataframe which columns are all the frequentmers from the extraction phase and rows are the sample files. The row-column values are simply binary, indicating the presence or the absence of a particular frequentmer inside the corresponding sample file.\n",
    "\n",
    "Hence, we want to see if the presence (or the absence) of a group of frequentmers, can predict if a sample files belongs to a patient or to a control.\n",
    "\n",
    "The function 'load_train_data' accepts two arguments:\n",
    "- fold_id: the ID of the fold we are looking at\n",
    "- recurrency: how many files that particular frequentmer is pointing at.\n",
    "\n",
    "If the recurrency is high, that means that a frequentmer was found in many sample files. Furthermore, the recurrency is also a threshold below which we drop any frequentmer that was found pointing to less than the threshold files, hence resulting in less features for our  training data.\n",
    "\n",
    "The function 'load_train_data' first loads the frequentmers and their sample files as a python dictionary, creates a list of the unique samples, and builds up the dataframe.\n",
    "\n",
    "It returns the frequentmers as the column names, and the dataframe.\n",
    "\n",
    "The column names are important for our second function."
   ]
  },
  {
   "cell_type": "code",
   "execution_count": 2,
   "id": "c42c0dd3-03de-4d3c-8c04-d84bfd0ee79c",
   "metadata": {},
   "outputs": [],
   "source": [
    "def load_train_data(fold_id: int, recurrency: int = 20) -> Tuple[List[str], pd.DataFrame]:\n",
    "    full_path = \"/storage/group/izg5139/default/nicole/mngs/recurrency/pickled/\"\n",
    "    train_fold = pickle.load(open(full_path + f\"frequentmers_fold_{fold_id}_recurrency_{recurrency}.json\", \"rb\"))\n",
    "    unique_files = list({file for chunk in train_fold.values() for file in chunk})\n",
    "    columns = []\n",
    "    data = np.zeros((len(unique_files), len(set(train_fold.keys()))), \n",
    "                    dtype=np.float32)\n",
    "\n",
    "    for idx, (key, value) in enumerate(train_fold.items()):\n",
    "        columns.append(key)\n",
    "        data[:, idx] = [int(file in value) for file in unique_files]\n",
    "        \n",
    "    train_df = pd.DataFrame(data, \n",
    "                    columns=columns, \n",
    "                    index=[file.rstrip(\".txt\") for file in unique_files])\n",
    "    return columns, train_df"
   ]
  },
  {
   "cell_type": "markdown",
   "id": "77d21c93-5f53-42a6-b5e5-edd82eadd60a",
   "metadata": {},
   "source": [
    "The function 'load_test_data' accepts three arguments:\n",
    "- fold_id\n",
    "- train columns\n",
    "- recurrency\n",
    "\n",
    "The function constructs a dataframe which contains the testmers. Testmers are simply DNA frequentmers that were also found in the test set of a given fold, i.e. samples from the test set containg the frequentmers of the training set. \n",
    "\n",
    "We see one new argument, namely, the train columns. We need that argument, because it might be the case that some frequentmers didn't appear as testmers, i.e. they didn't correspond to any sample files of our test set. Hence, we need to include those missing frequentmers are columns for consistency of our model. A trained model on a larger feature space would raise an Exception. As a result, we need to fill with zeros those missing columns.\n",
    "\n",
    "Finally, the 'load_test_data' function returns a pandas dataframe containg the testmers/frequentmers as column names and index/rows the sample files of the test set corresponding to a particular fold."
   ]
  },
  {
   "cell_type": "code",
   "execution_count": 3,
   "id": "356d6bee-59f0-405c-8d47-32d4fa8e4885",
   "metadata": {},
   "outputs": [],
   "source": [
    "def load_test_data(fold_id: int, train_columns: List[str], recurrency: int = 15) -> pd.DataFrame:\n",
    "    full_path = \"/storage/group/izg5139/default/nicole/mngs/recurrency/pickled/\"\n",
    "    test_fold = pickle.load(open(full_path + f\"testmers_fold_{fold_id}_recurrency_{recurrency}.json\", \"rb\"))\n",
    "    unique_files = list({file for chunk in test_fold.values() for file in chunk})\n",
    "    test_data = np.zeros((len(unique_files), len(train_columns)), dtype=np.float32)\n",
    "    for idx, col in enumerate(train_columns):\n",
    "        test_data[:, idx] = [int(file in test_fold[col]) if col in test_fold else 0 for file in unique_files]\n",
    "    \n",
    "    test_df = pd.DataFrame(test_data, \n",
    "                       index=[file.rstrip(\".txt.gz\") for file in unique_files],\n",
    "                       columns=train_columns)\n",
    "    return test_df"
   ]
  },
  {
   "cell_type": "markdown",
   "id": "43f5ef7e-b0bd-449a-aee8-9ab7e845f478",
   "metadata": {},
   "source": [
    "The default recurrency is assumed to be 20, for demonstration purposes."
   ]
  },
  {
   "cell_type": "code",
   "execution_count": 4,
   "id": "45abb2bb-f750-404a-8a35-f2a0364e7493",
   "metadata": {},
   "outputs": [],
   "source": [
    "columns, train_df = load_train_data(fold_id=0)"
   ]
  },
  {
   "cell_type": "code",
   "execution_count": 5,
   "id": "613112ba-f8fc-4588-8909-1a95edf06503",
   "metadata": {},
   "outputs": [
    {
     "data": {
      "text/html": [
       "<div>\n",
       "<style scoped>\n",
       "    .dataframe tbody tr th:only-of-type {\n",
       "        vertical-align: middle;\n",
       "    }\n",
       "\n",
       "    .dataframe tbody tr th {\n",
       "        vertical-align: top;\n",
       "    }\n",
       "\n",
       "    .dataframe thead th {\n",
       "        text-align: right;\n",
       "    }\n",
       "</style>\n",
       "<table border=\"1\" class=\"dataframe\">\n",
       "  <thead>\n",
       "    <tr style=\"text-align: right;\">\n",
       "      <th></th>\n",
       "      <th>TGTTGGCCTGTATTAA</th>\n",
       "      <th>CTGCACAGTTGTCACC</th>\n",
       "      <th>AACTTGTGCCATTCTG</th>\n",
       "      <th>TAGCATGAATTCCGCA</th>\n",
       "      <th>GTGGTACGCCGACTGA</th>\n",
       "      <th>CACGAATCATCGCTGC</th>\n",
       "      <th>CAAGCTAAGTAAAACC</th>\n",
       "      <th>AGCTAAGGTCACTGAC</th>\n",
       "      <th>TGCACTAAGTCAAAAA</th>\n",
       "      <th>CGGCTTCTTAGGGTTC</th>\n",
       "      <th>...</th>\n",
       "      <th>GGGGTTCGTATAGACA</th>\n",
       "      <th>CGAGGACTCGCCGCTA</th>\n",
       "      <th>ATGTACCCGAATAAAT</th>\n",
       "      <th>AAAGAGCCGCGGGTCG</th>\n",
       "      <th>GAATATACCGTAGACA</th>\n",
       "      <th>AATAGTACACGGTGTA</th>\n",
       "      <th>AGATTTCCAATGGCCG</th>\n",
       "      <th>TGTGTAATTTACGTAA</th>\n",
       "      <th>AATACGGAGATTCGAG</th>\n",
       "      <th>AAGACTGCGGGTTGAG</th>\n",
       "    </tr>\n",
       "  </thead>\n",
       "  <tbody>\n",
       "    <tr>\n",
       "      <th>HD-17</th>\n",
       "      <td>0.0</td>\n",
       "      <td>0.0</td>\n",
       "      <td>0.0</td>\n",
       "      <td>0.0</td>\n",
       "      <td>0.0</td>\n",
       "      <td>0.0</td>\n",
       "      <td>0.0</td>\n",
       "      <td>0.0</td>\n",
       "      <td>0.0</td>\n",
       "      <td>0.0</td>\n",
       "      <td>...</td>\n",
       "      <td>0.0</td>\n",
       "      <td>0.0</td>\n",
       "      <td>0.0</td>\n",
       "      <td>1.0</td>\n",
       "      <td>0.0</td>\n",
       "      <td>0.0</td>\n",
       "      <td>0.0</td>\n",
       "      <td>0.0</td>\n",
       "      <td>0.0</td>\n",
       "      <td>0.0</td>\n",
       "    </tr>\n",
       "    <tr>\n",
       "      <th>HV-5</th>\n",
       "      <td>0.0</td>\n",
       "      <td>0.0</td>\n",
       "      <td>0.0</td>\n",
       "      <td>0.0</td>\n",
       "      <td>0.0</td>\n",
       "      <td>0.0</td>\n",
       "      <td>0.0</td>\n",
       "      <td>0.0</td>\n",
       "      <td>0.0</td>\n",
       "      <td>0.0</td>\n",
       "      <td>...</td>\n",
       "      <td>0.0</td>\n",
       "      <td>0.0</td>\n",
       "      <td>0.0</td>\n",
       "      <td>0.0</td>\n",
       "      <td>0.0</td>\n",
       "      <td>0.0</td>\n",
       "      <td>0.0</td>\n",
       "      <td>0.0</td>\n",
       "      <td>0.0</td>\n",
       "      <td>0.0</td>\n",
       "    </tr>\n",
       "  </tbody>\n",
       "</table>\n",
       "<p>2 rows × 135172 columns</p>\n",
       "</div>"
      ],
      "text/plain": [
       "       TGTTGGCCTGTATTAA  CTGCACAGTTGTCACC  AACTTGTGCCATTCTG  TAGCATGAATTCCGCA   \n",
       "HD-17               0.0               0.0               0.0               0.0  \\\n",
       "HV-5                0.0               0.0               0.0               0.0   \n",
       "\n",
       "       GTGGTACGCCGACTGA  CACGAATCATCGCTGC  CAAGCTAAGTAAAACC  AGCTAAGGTCACTGAC   \n",
       "HD-17               0.0               0.0               0.0               0.0  \\\n",
       "HV-5                0.0               0.0               0.0               0.0   \n",
       "\n",
       "       TGCACTAAGTCAAAAA  CGGCTTCTTAGGGTTC  ...  GGGGTTCGTATAGACA   \n",
       "HD-17               0.0               0.0  ...               0.0  \\\n",
       "HV-5                0.0               0.0  ...               0.0   \n",
       "\n",
       "       CGAGGACTCGCCGCTA  ATGTACCCGAATAAAT  AAAGAGCCGCGGGTCG  GAATATACCGTAGACA   \n",
       "HD-17               0.0               0.0               1.0               0.0  \\\n",
       "HV-5                0.0               0.0               0.0               0.0   \n",
       "\n",
       "       AATAGTACACGGTGTA  AGATTTCCAATGGCCG  TGTGTAATTTACGTAA  AATACGGAGATTCGAG   \n",
       "HD-17               0.0               0.0               0.0               0.0  \\\n",
       "HV-5                0.0               0.0               0.0               0.0   \n",
       "\n",
       "       AAGACTGCGGGTTGAG  \n",
       "HD-17               0.0  \n",
       "HV-5                0.0  \n",
       "\n",
       "[2 rows x 135172 columns]"
      ]
     },
     "execution_count": 5,
     "metadata": {},
     "output_type": "execute_result"
    }
   ],
   "source": [
    "train_df.head(2)"
   ]
  },
  {
   "cell_type": "code",
   "execution_count": 6,
   "id": "8272125d-b19a-4a71-b2c8-6cef689eb603",
   "metadata": {},
   "outputs": [
    {
     "data": {
      "text/html": [
       "<div>\n",
       "<style scoped>\n",
       "    .dataframe tbody tr th:only-of-type {\n",
       "        vertical-align: middle;\n",
       "    }\n",
       "\n",
       "    .dataframe tbody tr th {\n",
       "        vertical-align: top;\n",
       "    }\n",
       "\n",
       "    .dataframe thead th {\n",
       "        text-align: right;\n",
       "    }\n",
       "</style>\n",
       "<table border=\"1\" class=\"dataframe\">\n",
       "  <thead>\n",
       "    <tr style=\"text-align: right;\">\n",
       "      <th></th>\n",
       "      <th>TGTTGGCCTGTATTAA</th>\n",
       "      <th>CTGCACAGTTGTCACC</th>\n",
       "      <th>AACTTGTGCCATTCTG</th>\n",
       "      <th>TAGCATGAATTCCGCA</th>\n",
       "      <th>GTGGTACGCCGACTGA</th>\n",
       "      <th>CACGAATCATCGCTGC</th>\n",
       "      <th>CAAGCTAAGTAAAACC</th>\n",
       "      <th>AGCTAAGGTCACTGAC</th>\n",
       "      <th>TGCACTAAGTCAAAAA</th>\n",
       "      <th>CGGCTTCTTAGGGTTC</th>\n",
       "      <th>...</th>\n",
       "      <th>GGGGTTCGTATAGACA</th>\n",
       "      <th>CGAGGACTCGCCGCTA</th>\n",
       "      <th>ATGTACCCGAATAAAT</th>\n",
       "      <th>AAAGAGCCGCGGGTCG</th>\n",
       "      <th>GAATATACCGTAGACA</th>\n",
       "      <th>AATAGTACACGGTGTA</th>\n",
       "      <th>AGATTTCCAATGGCCG</th>\n",
       "      <th>TGTGTAATTTACGTAA</th>\n",
       "      <th>AATACGGAGATTCGAG</th>\n",
       "      <th>AAGACTGCGGGTTGAG</th>\n",
       "    </tr>\n",
       "  </thead>\n",
       "  <tbody>\n",
       "    <tr>\n",
       "      <th>LD-61</th>\n",
       "      <td>0.0</td>\n",
       "      <td>0.0</td>\n",
       "      <td>0.0</td>\n",
       "      <td>0.0</td>\n",
       "      <td>1.0</td>\n",
       "      <td>1.0</td>\n",
       "      <td>0.0</td>\n",
       "      <td>1.0</td>\n",
       "      <td>0.0</td>\n",
       "      <td>1.0</td>\n",
       "      <td>...</td>\n",
       "      <td>0.0</td>\n",
       "      <td>0.0</td>\n",
       "      <td>0.0</td>\n",
       "      <td>0.0</td>\n",
       "      <td>0.0</td>\n",
       "      <td>0.0</td>\n",
       "      <td>0.0</td>\n",
       "      <td>0.0</td>\n",
       "      <td>0.0</td>\n",
       "      <td>0.0</td>\n",
       "    </tr>\n",
       "    <tr>\n",
       "      <th>LV-18</th>\n",
       "      <td>0.0</td>\n",
       "      <td>0.0</td>\n",
       "      <td>0.0</td>\n",
       "      <td>0.0</td>\n",
       "      <td>0.0</td>\n",
       "      <td>0.0</td>\n",
       "      <td>1.0</td>\n",
       "      <td>0.0</td>\n",
       "      <td>1.0</td>\n",
       "      <td>0.0</td>\n",
       "      <td>...</td>\n",
       "      <td>0.0</td>\n",
       "      <td>0.0</td>\n",
       "      <td>0.0</td>\n",
       "      <td>0.0</td>\n",
       "      <td>0.0</td>\n",
       "      <td>0.0</td>\n",
       "      <td>0.0</td>\n",
       "      <td>0.0</td>\n",
       "      <td>0.0</td>\n",
       "      <td>0.0</td>\n",
       "    </tr>\n",
       "  </tbody>\n",
       "</table>\n",
       "<p>2 rows × 135172 columns</p>\n",
       "</div>"
      ],
      "text/plain": [
       "       TGTTGGCCTGTATTAA  CTGCACAGTTGTCACC  AACTTGTGCCATTCTG  TAGCATGAATTCCGCA   \n",
       "LD-61               0.0               0.0               0.0               0.0  \\\n",
       "LV-18               0.0               0.0               0.0               0.0   \n",
       "\n",
       "       GTGGTACGCCGACTGA  CACGAATCATCGCTGC  CAAGCTAAGTAAAACC  AGCTAAGGTCACTGAC   \n",
       "LD-61               1.0               1.0               0.0               1.0  \\\n",
       "LV-18               0.0               0.0               1.0               0.0   \n",
       "\n",
       "       TGCACTAAGTCAAAAA  CGGCTTCTTAGGGTTC  ...  GGGGTTCGTATAGACA   \n",
       "LD-61               0.0               1.0  ...               0.0  \\\n",
       "LV-18               1.0               0.0  ...               0.0   \n",
       "\n",
       "       CGAGGACTCGCCGCTA  ATGTACCCGAATAAAT  AAAGAGCCGCGGGTCG  GAATATACCGTAGACA   \n",
       "LD-61               0.0               0.0               0.0               0.0  \\\n",
       "LV-18               0.0               0.0               0.0               0.0   \n",
       "\n",
       "       AATAGTACACGGTGTA  AGATTTCCAATGGCCG  TGTGTAATTTACGTAA  AATACGGAGATTCGAG   \n",
       "LD-61               0.0               0.0               0.0               0.0  \\\n",
       "LV-18               0.0               0.0               0.0               0.0   \n",
       "\n",
       "       AAGACTGCGGGTTGAG  \n",
       "LD-61               0.0  \n",
       "LV-18               0.0  \n",
       "\n",
       "[2 rows x 135172 columns]"
      ]
     },
     "execution_count": 6,
     "metadata": {},
     "output_type": "execute_result"
    }
   ],
   "source": [
    "test_df = load_test_data(fold_id=0, train_columns=columns)\n",
    "test_df.head(2)"
   ]
  },
  {
   "cell_type": "markdown",
   "id": "919a1da7-fddf-4486-b50a-0e6928285c6e",
   "metadata": {},
   "source": [
    "From the index of the training and test dataframes we can induce the class membership of a particular file.\n",
    "\n",
    "The function 'get_X_y' help us identify to the group which one rows belongs to."
   ]
  },
  {
   "cell_type": "code",
   "execution_count": 7,
   "id": "e2626c0a-69e9-4895-8f77-76590c218203",
   "metadata": {},
   "outputs": [],
   "source": [
    "def get_X_y(df: pd.DataFrame) -> Tuple[pd.DataFrame, pd.Series]:\n",
    "    y = df.reset_index()[\"index\"].apply(lambda x: int(x.startswith(\"L\")))\n",
    "    df.reset_index(drop=True, inplace=True)\n",
    "    df[\"target\"] = y\n",
    "    X = df.drop(columns=[\"target\"])\n",
    "    return X, y"
   ]
  },
  {
   "cell_type": "markdown",
   "id": "6d1578a3-a0c6-4c99-9a1c-eae9a9f30109",
   "metadata": {},
   "source": [
    "Finally, we split our feature set and the target into train-test-split"
   ]
  },
  {
   "cell_type": "code",
   "execution_count": 8,
   "id": "b650959f-f49c-4e6c-8db3-79721c7b162c",
   "metadata": {},
   "outputs": [],
   "source": [
    "def load_train_test_split(fold_id: int, recurrency: int = 15) -> Tuple[pd.DataFrame, ...]:\n",
    "    train_columns, train_df = load_train_data(fold_id, recurrency=recurrency)\n",
    "    test_df = load_test_data(fold_id, train_columns, recurrency=recurrency)\n",
    "    X_train, y_train = get_X_y(train_df)\n",
    "    X_test, y_test = get_X_y(test_df)\n",
    "    return X_train, X_test, y_train, y_test"
   ]
  },
  {
   "cell_type": "code",
   "execution_count": 9,
   "id": "4f4dce84-7264-46f0-a081-0be2115a5f03",
   "metadata": {},
   "outputs": [
    {
     "name": "stderr",
     "output_type": "stream",
     "text": [
      "100%|██████████| 10/10 [02:41<00:00, 16.12s/it]\n"
     ]
    }
   ],
   "source": [
    "X_train_dict = dict()\n",
    "X_train_dict_columns = dict()\n",
    "X_test_dict = dict()\n",
    "y_train_dict = dict()\n",
    "y_test_dict = dict()\n",
    "\n",
    "\n",
    "for fold_id in tqdm(range(10)):\n",
    "    X_train, X_test, y_train, y_test = load_train_test_split(fold_id, recurrency=20)\n",
    "    X_train_dict.update({fold_id: X_train})\n",
    "    X_train_dict_columns.update({fold_id: X_train.columns.tolist()})\n",
    "    X_test_dict.update({fold_id: X_test})\n",
    "    y_train_dict.update({fold_id: y_train})\n",
    "    y_test_dict.update({fold_id: y_test})"
   ]
  },
  {
   "cell_type": "code",
   "execution_count": 10,
   "id": "4215b1f5-8471-4675-9890-5435e99d514a",
   "metadata": {},
   "outputs": [
    {
     "name": "stderr",
     "output_type": "stream",
     "text": [
      "100%|██████████| 10/10 [00:09<00:00,  1.01it/s]\n"
     ]
    }
   ],
   "source": [
    "full_path = \"/storage/group/izg5139/default/nicole/mngs/recurrency/pickled/\"\n",
    "column_labels = {\"frequentmer\": set(), \"label\": []}\n",
    "for fold_id in tqdm(range(10)):\n",
    "    train_fold = pickle.load(open(full_path + f\"frequentmers_fold_{fold_id}_recurrency_20.json\", \"rb\"))\n",
    "\n",
    "    for frequentmer, sample_files in train_fold.items():\n",
    "        if sample_files[0].startswith(\"L\"):\n",
    "            label = 1\n",
    "        else:\n",
    "            label = 0\n",
    "\n",
    "        if frequentmer not in column_labels[\"frequentmer\"]:\n",
    "            column_labels[\"frequentmer\"].add(frequentmer)\n",
    "            column_labels[\"label\"].append(label)"
   ]
  },
  {
   "cell_type": "markdown",
   "id": "37b5d9b7-a79d-415a-ba60-72efaf0cda5b",
   "metadata": {},
   "source": [
    "## Predictive Modeling"
   ]
  },
  {
   "cell_type": "code",
   "execution_count": 11,
   "id": "1b690fa3-c183-4fef-8bea-05da96bcdb19",
   "metadata": {},
   "outputs": [],
   "source": [
    "def cross_val_score(model, \n",
    "                    recurrency: int, \n",
    "                    cv: int = 10, \n",
    "                    pca: bool = False, \n",
    "                    n_components: int = 3,\n",
    "                    scoring: str = \"auc\") -> np.ndarray:\n",
    "    \"\"\"Cross validate from scratch; \n",
    "    loads in-memory the train-test split for each fold_id;\n",
    "    Calculates ROC-AUC score on each fold\"\"\"\n",
    "    scores = []\n",
    "    for fold_id in range(cv):\n",
    "        X_train, X_test, y_train, y_test = train_test_split(fold_id, recurrency)\n",
    "        \n",
    "        model.fit(X_train, y_train)\n",
    "        y_test_proba_expensive = model.predict_proba(X_train)[:, 1]\n",
    "        \n",
    "        auc_score = roc_auc_score(y_test, y_test_proba_expensive)\n",
    "        scores.append(auc_score)\n",
    "        \n",
    "    return np.array(scores)"
   ]
  },
  {
   "cell_type": "code",
   "execution_count": 12,
   "id": "69ed9e44-0a98-40be-92a6-1afc85696713",
   "metadata": {},
   "outputs": [],
   "source": [
    "def cross_val_score_dict(model, \n",
    "                    X_train_dict,\n",
    "                    X_test_dict,\n",
    "                    y_train_dict,\n",
    "                    y_test_dict) -> np.ndarray:\n",
    "    \"\"\"Cross validate with in-memory saved folds; \n",
    "        This technique is infeasible for low recurrencies;\n",
    "        calculates ROC-AUC scores for each fold.\"\"\"\n",
    "    scores = []\n",
    "    for fold_id in tqdm(X_train_dict):\n",
    "        X_train = X_train_dict[fold_id]\n",
    "        X_test = X_test_dict[fold_id]\n",
    "        y_train = y_train_dict[fold_id]\n",
    "        y_test = y_test_dict[fold_id]\n",
    "        model.fit(X_train, y_train)\n",
    "        y_test_proba_expensive = model.predict_proba(X_test)[:, 1]\n",
    "    \n",
    "        auc_score = roc_auc_score(y_test, y_test_proba_expensive)\n",
    "        scores.append(auc_score)\n",
    "        \n",
    "    return np.array(scores)"
   ]
  },
  {
   "cell_type": "code",
   "execution_count": 13,
   "id": "ceb003c1-32f4-4f82-ae1b-3f0001762045",
   "metadata": {},
   "outputs": [
    {
     "name": "stderr",
     "output_type": "stream",
     "text": [
      "100%|██████████| 10/10 [00:36<00:00,  3.62s/it]\n"
     ]
    },
    {
     "data": {
      "text/plain": [
       "array([0.98571429, 0.96503497, 0.92142857, 0.92361111, 0.92307692,\n",
       "       0.79370629, 0.88811189, 0.85714286, 0.95      , 0.92424242])"
      ]
     },
     "execution_count": 13,
     "metadata": {},
     "output_type": "execute_result"
    }
   ],
   "source": [
    "logreg = LogisticRegression(max_iter=2000, C=0.01, penalty=\"l2\")\n",
    "\n",
    "logreg_cv_scores = cross_val_score_dict(logreg, \n",
    "                                        X_train_dict, \n",
    "                                        X_test_dict, \n",
    "                                        y_train_dict, \n",
    "                                        y_test_dict)\n",
    "logreg_cv_scores"
   ]
  },
  {
   "cell_type": "code",
   "execution_count": 14,
   "id": "7f3b4d0d-a835-4db1-a039-52fc2ff75ab7",
   "metadata": {},
   "outputs": [
    {
     "data": {
      "text/plain": [
       "0.9132069319569318"
      ]
     },
     "execution_count": 14,
     "metadata": {},
     "output_type": "execute_result"
    }
   ],
   "source": [
    "logreg_mean_score = logreg_cv_scores.mean()\n",
    "logreg_mean_score"
   ]
  },
  {
   "cell_type": "code",
   "execution_count": null,
   "id": "8bb47674-3356-4b55-a566-f81ba1f0450f",
   "metadata": {},
   "outputs": [],
   "source": [
    "xgbcl = XGBClassifier()\n",
    "\n",
    "xgb_cv_scores = cross_val_score_dict(xgbcl, \n",
    "                                     X_train_dict, \n",
    "                                     X_test_dict, \n",
    "                                     y_train_dict, \n",
    "                                     y_test_dict)\n",
    "xgb_cv_scores"
   ]
  },
  {
   "cell_type": "code",
   "execution_count": null,
   "id": "5d0aad33-d0cb-4c96-8090-62c5000775b3",
   "metadata": {},
   "outputs": [],
   "source": [
    "xgb_mean_score = xgb_cv_scores.mean()\n",
    "xgb_mean_score"
   ]
  },
  {
   "cell_type": "markdown",
   "id": "43b77562-5462-4b98-b1c5-a11136867ac7",
   "metadata": {},
   "source": [
    "### "
   ]
  },
  {
   "cell_type": "markdown",
   "id": "7b32955c-11db-486e-98b9-f25c2239f01a",
   "metadata": {},
   "source": [
    "### Frequentmer Analysis"
   ]
  },
  {
   "cell_type": "markdown",
   "id": "4208a256-2a99-49d3-b96b-d3c246ac3854",
   "metadata": {},
   "source": [
    "On this section we are concerned about the true class of frequentmers. For each fold we load the hashmaps of frequentmer and testmers and we are saving how many patient and control counts a testmer was found to have. We are expecting that patient frequentmers would have more patient sample files corresponding to them rather than healthy sample files and, respectively, control frequentmers more healthy than sample files.\n",
    "\n",
    "In the code block below, we are saving for each fold, all the frequentmers with their corresponding patient & healthy counts as well as their recurrency level."
   ]
  },
  {
   "cell_type": "code",
   "execution_count": 11,
   "id": "43118183-e51e-4a1c-adde-d4773f4cd126",
   "metadata": {},
   "outputs": [
    {
     "name": "stderr",
     "output_type": "stream",
     "text": [
      "100%|██████████| 10/10 [00:19<00:00,  1.96s/it]\n"
     ]
    },
    {
     "data": {
      "text/html": [
       "<div>\n",
       "<style scoped>\n",
       "    .dataframe tbody tr th:only-of-type {\n",
       "        vertical-align: middle;\n",
       "    }\n",
       "\n",
       "    .dataframe tbody tr th {\n",
       "        vertical-align: top;\n",
       "    }\n",
       "\n",
       "    .dataframe thead th {\n",
       "        text-align: right;\n",
       "    }\n",
       "</style>\n",
       "<table border=\"1\" class=\"dataframe\">\n",
       "  <thead>\n",
       "    <tr style=\"text-align: right;\">\n",
       "      <th></th>\n",
       "      <th>frequentmer</th>\n",
       "      <th>length</th>\n",
       "      <th>fold_id</th>\n",
       "      <th>patient_counts</th>\n",
       "      <th>healthy_counts</th>\n",
       "      <th>frequentmer_class</th>\n",
       "    </tr>\n",
       "  </thead>\n",
       "  <tbody>\n",
       "    <tr>\n",
       "      <th>0</th>\n",
       "      <td>TGTTGGCCTGTATTAA</td>\n",
       "      <td>23</td>\n",
       "      <td>0</td>\n",
       "      <td>1</td>\n",
       "      <td>0</td>\n",
       "      <td>patient</td>\n",
       "    </tr>\n",
       "    <tr>\n",
       "      <th>1</th>\n",
       "      <td>CTGCACAGTTGTCACC</td>\n",
       "      <td>20</td>\n",
       "      <td>0</td>\n",
       "      <td>1</td>\n",
       "      <td>0</td>\n",
       "      <td>patient</td>\n",
       "    </tr>\n",
       "    <tr>\n",
       "      <th>2</th>\n",
       "      <td>AACTTGTGCCATTCTG</td>\n",
       "      <td>21</td>\n",
       "      <td>0</td>\n",
       "      <td>4</td>\n",
       "      <td>0</td>\n",
       "      <td>patient</td>\n",
       "    </tr>\n",
       "    <tr>\n",
       "      <th>3</th>\n",
       "      <td>TAGCATGAATTCCGCA</td>\n",
       "      <td>23</td>\n",
       "      <td>0</td>\n",
       "      <td>0</td>\n",
       "      <td>0</td>\n",
       "      <td>patient</td>\n",
       "    </tr>\n",
       "    <tr>\n",
       "      <th>4</th>\n",
       "      <td>GTGGTACGCCGACTGA</td>\n",
       "      <td>27</td>\n",
       "      <td>0</td>\n",
       "      <td>2</td>\n",
       "      <td>0</td>\n",
       "      <td>patient</td>\n",
       "    </tr>\n",
       "  </tbody>\n",
       "</table>\n",
       "</div>"
      ],
      "text/plain": [
       "        frequentmer  length  fold_id  patient_counts  healthy_counts   \n",
       "0  TGTTGGCCTGTATTAA      23        0               1               0  \\\n",
       "1  CTGCACAGTTGTCACC      20        0               1               0   \n",
       "2  AACTTGTGCCATTCTG      21        0               4               0   \n",
       "3  TAGCATGAATTCCGCA      23        0               0               0   \n",
       "4  GTGGTACGCCGACTGA      27        0               2               0   \n",
       "\n",
       "  frequentmer_class  \n",
       "0           patient  \n",
       "1           patient  \n",
       "2           patient  \n",
       "3           patient  \n",
       "4           patient  "
      ]
     },
     "execution_count": 11,
     "metadata": {},
     "output_type": "execute_result"
    }
   ],
   "source": [
    "frequentmers_path = Path(\"/storage/group/izg5139/default/nicole/mngs/recurrency/pickled/\")\n",
    "\n",
    "frequentmers_class = []\n",
    "recurrency = 20\n",
    "\n",
    "for fold_id in tqdm(range(10)):\n",
    "    with frequentmers_path.joinpath(f\"frequentmers_fold_{fold_id}_recurrency_{recurrency}.json\").open(\"rb\") as f:\n",
    "        frequentmers = pickle.load(f)\n",
    "        \n",
    "    with frequentmers_path.joinpath(f\"testmers_fold_{fold_id}_recurrency_{recurrency}.json\").open(\"rb\") as f:\n",
    "        testmers = pickle.load(f)\n",
    "\n",
    "    \n",
    "    for nucleotide, sample_files in frequentmers.items():\n",
    "        if nucleotide in testmers:\n",
    "            value: List[str] = testmers[nucleotide]\n",
    "            patient_counts = sum(int(sample.startswith(\"L\")) for sample in value)\n",
    "            healthy_counts = sum(int(sample.startswith(\"H\")) for sample in value)\n",
    "        else:\n",
    "            patient_counts = healthy_counts = 0\n",
    "            \n",
    "        row = [nucleotide, \n",
    "               len(sample_files), \n",
    "               fold_id, \n",
    "               patient_counts, \n",
    "               healthy_counts, \n",
    "               \"patient\" if sample_files[0].startswith(\"L\") else \"healthy\"\n",
    "              ]\n",
    "        frequentmers_class.append(row)\n",
    "        \n",
    "frequentmers_class = pd.DataFrame(frequentmers_class, \n",
    "                                  columns=[\"frequentmer\", \n",
    "                                           \"length\", \n",
    "                                           \"fold_id\", \n",
    "                                           \"patient_counts\", \n",
    "                                           \"healthy_counts\", \n",
    "                                           \"frequentmer_class\"]\n",
    "                                 )\n",
    "frequentmers_class.head()"
   ]
  },
  {
   "cell_type": "code",
   "execution_count": 57,
   "id": "81bb91eb-bc29-4035-9bd8-5ad0764429b0",
   "metadata": {},
   "outputs": [
    {
     "data": {
      "text/plain": [
       "array([1])"
      ]
     },
     "execution_count": 57,
     "metadata": {},
     "output_type": "execute_result"
    }
   ],
   "source": [
    "# Sanity Check: Checking if each frequentmer corresponds to a unique class\n",
    "\n",
    "frequentmers_class[(frequentmers_class[\"patient_counts\"] > 0) \\\n",
    "                    | (frequentmers_class[\"healthy_counts\"] > 0)]\\\n",
    "            .groupby(\"frequentmer\")[\"frequentmer_class\"]\\\n",
    "            .nunique()\\\n",
    "            .unique()"
   ]
  },
  {
   "cell_type": "markdown",
   "id": "bee30fad-12e6-41a1-bc56-4f9480be45bc",
   "metadata": {},
   "source": [
    "Now we group by all the frequentmers across all the different fold ids and we find the average number of patient and control counts. Note that we divide by 10 and not just aggregating by the mean, because we want the average out of all the various folds of our cross validation. Furthermore, we are storing the frequentmer class that a particular frequentmer originated from (control or patient)."
   ]
  },
  {
   "cell_type": "code",
   "execution_count": 16,
   "id": "63a320ec-5c9a-4bdf-97f4-199865baafc8",
   "metadata": {},
   "outputs": [
    {
     "data": {
      "text/html": [
       "<div>\n",
       "<style scoped>\n",
       "    .dataframe tbody tr th:only-of-type {\n",
       "        vertical-align: middle;\n",
       "    }\n",
       "\n",
       "    .dataframe tbody tr th {\n",
       "        vertical-align: top;\n",
       "    }\n",
       "\n",
       "    .dataframe thead th {\n",
       "        text-align: right;\n",
       "    }\n",
       "</style>\n",
       "<table border=\"1\" class=\"dataframe\">\n",
       "  <thead>\n",
       "    <tr style=\"text-align: right;\">\n",
       "      <th></th>\n",
       "      <th>patient_counts</th>\n",
       "      <th>healthy_counts</th>\n",
       "      <th>frequentmer_class</th>\n",
       "    </tr>\n",
       "    <tr>\n",
       "      <th>frequentmer</th>\n",
       "      <th></th>\n",
       "      <th></th>\n",
       "      <th></th>\n",
       "    </tr>\n",
       "  </thead>\n",
       "  <tbody>\n",
       "    <tr>\n",
       "      <th>AAAAAAACACACTAGT</th>\n",
       "      <td>0.1</td>\n",
       "      <td>0.2</td>\n",
       "      <td>patient</td>\n",
       "    </tr>\n",
       "    <tr>\n",
       "      <th>AAAAAAACCTAGCGAT</th>\n",
       "      <td>3.1</td>\n",
       "      <td>0.0</td>\n",
       "      <td>patient</td>\n",
       "    </tr>\n",
       "    <tr>\n",
       "      <th>AAAAAAACTAAGTGTG</th>\n",
       "      <td>0.2</td>\n",
       "      <td>0.2</td>\n",
       "      <td>patient</td>\n",
       "    </tr>\n",
       "    <tr>\n",
       "      <th>AAAAAACACGTAGCTC</th>\n",
       "      <td>0.6</td>\n",
       "      <td>0.1</td>\n",
       "      <td>patient</td>\n",
       "    </tr>\n",
       "    <tr>\n",
       "      <th>AAAAAACCACCTAGGT</th>\n",
       "      <td>0.0</td>\n",
       "      <td>0.2</td>\n",
       "      <td>patient</td>\n",
       "    </tr>\n",
       "  </tbody>\n",
       "</table>\n",
       "</div>"
      ],
      "text/plain": [
       "                  patient_counts  healthy_counts frequentmer_class\n",
       "frequentmer                                                       \n",
       "AAAAAAACACACTAGT             0.1             0.2           patient\n",
       "AAAAAAACCTAGCGAT             3.1             0.0           patient\n",
       "AAAAAAACTAAGTGTG             0.2             0.2           patient\n",
       "AAAAAACACGTAGCTC             0.6             0.1           patient\n",
       "AAAAAACCACCTAGGT             0.0             0.2           patient"
      ]
     },
     "execution_count": 16,
     "metadata": {},
     "output_type": "execute_result"
    }
   ],
   "source": [
    "grouped_frequentmers = frequentmers_class[(frequentmers_class[\"patient_counts\"] > 0) \\\n",
    "                                          | (frequentmers_class[\"healthy_counts\"] > 0)]\\\n",
    "                                        .groupby(\"frequentmer\")\\\n",
    "                                        .agg({\n",
    "                                             \"patient_counts\": lambda x: x.sum()/10.0,\n",
    "                                             \"healthy_counts\": lambda x: x.sum()/10.0,\n",
    "                                             \"frequentmer_class\": \"first\"\n",
    "                                            })\n",
    "grouped_frequentmers.head()"
   ]
  },
  {
   "cell_type": "code",
   "execution_count": 17,
   "id": "b19544e2-eaef-409a-a26e-fcaa9820575e",
   "metadata": {},
   "outputs": [
    {
     "data": {
      "text/html": [
       "<div>\n",
       "<style scoped>\n",
       "    .dataframe tbody tr th:only-of-type {\n",
       "        vertical-align: middle;\n",
       "    }\n",
       "\n",
       "    .dataframe tbody tr th {\n",
       "        vertical-align: top;\n",
       "    }\n",
       "\n",
       "    .dataframe thead th {\n",
       "        text-align: right;\n",
       "    }\n",
       "</style>\n",
       "<table border=\"1\" class=\"dataframe\">\n",
       "  <thead>\n",
       "    <tr style=\"text-align: right;\">\n",
       "      <th></th>\n",
       "      <th>patient_counts</th>\n",
       "      <th>healthy_counts</th>\n",
       "    </tr>\n",
       "    <tr>\n",
       "      <th>frequentmer_class</th>\n",
       "      <th></th>\n",
       "      <th></th>\n",
       "    </tr>\n",
       "  </thead>\n",
       "  <tbody>\n",
       "    <tr>\n",
       "      <th>healthy</th>\n",
       "      <td>0.144831</td>\n",
       "      <td>0.209589</td>\n",
       "    </tr>\n",
       "    <tr>\n",
       "      <th>patient</th>\n",
       "      <td>0.529670</td>\n",
       "      <td>0.097831</td>\n",
       "    </tr>\n",
       "  </tbody>\n",
       "</table>\n",
       "</div>"
      ],
      "text/plain": [
       "                   patient_counts  healthy_counts\n",
       "frequentmer_class                                \n",
       "healthy                  0.144831        0.209589\n",
       "patient                  0.529670        0.097831"
      ]
     },
     "execution_count": 17,
     "metadata": {},
     "output_type": "execute_result"
    }
   ],
   "source": [
    "grouped_frequentmers.groupby(\"frequentmer_class\")[[\"patient_counts\", \"healthy_counts\"]].mean()"
   ]
  },
  {
   "cell_type": "markdown",
   "id": "5f04f111-7eed-4fd8-b034-23aec8bd8ca1",
   "metadata": {},
   "source": [
    "Finally, we are performing the mannwhitneyu statistical tests and we find **statistical significant** results between the two population accounting for the healthy frequentmers and consequently for the patient frequentmers.\n",
    "\n",
    "*Note that a frequentmer is referred to as patient if it was found in a patient sample file and respectively a frequentmer is referred to as healthy if it was found in a healthy sample file. By construction, frequentmers can be present in one and only one group.*"
   ]
  },
  {
   "cell_type": "code",
   "execution_count": 18,
   "id": "68b43361-5539-4336-a757-547ee2503cd7",
   "metadata": {},
   "outputs": [
    {
     "data": {
      "text/plain": [
       "MannwhitneyuResult(statistic=7931929.0, pvalue=2.2316379220015729e-10)"
      ]
     },
     "execution_count": 18,
     "metadata": {},
     "output_type": "execute_result"
    }
   ],
   "source": [
    "patient_counts_healthy = grouped_frequentmers[grouped_frequentmers[\"frequentmer_class\"]==\"healthy\"][\"patient_counts\"].tolist()\n",
    "healthy_counts_healthy = grouped_frequentmers[grouped_frequentmers[\"frequentmer_class\"]==\"healthy\"][\"healthy_counts\"].tolist()\n",
    "mannwhitneyu(patient_counts_healthy, healthy_counts_healthy)"
   ]
  },
  {
   "cell_type": "code",
   "execution_count": 19,
   "id": "8209ab3d-6c5d-428e-9777-87af7156864e",
   "metadata": {},
   "outputs": [
    {
     "data": {
      "text/plain": [
       "MannwhitneyuResult(statistic=87076054614.5, pvalue=0.0)"
      ]
     },
     "execution_count": 19,
     "metadata": {},
     "output_type": "execute_result"
    }
   ],
   "source": [
    "patient_counts_patient = grouped_frequentmers[grouped_frequentmers[\"frequentmer_class\"]==\"patient\"][\"patient_counts\"].tolist()\n",
    "healthy_counts_patient = grouped_frequentmers[grouped_frequentmers[\"frequentmer_class\"]==\"patient\"][\"healthy_counts\"].tolist()\n",
    "mannwhitneyu(patient_counts_patient, healthy_counts_patient)"
   ]
  },
  {
   "cell_type": "markdown",
   "id": "c3ab30b8-fda1-43aa-be63-4ebe25ea713f",
   "metadata": {},
   "source": [
    "### Confusion Matrix on Frequentmer Class"
   ]
  },
  {
   "cell_type": "markdown",
   "id": "3cf8afd0-162d-4e00-87f6-c0e5896df701",
   "metadata": {},
   "source": [
    "For each frequentmer across all the folds we have an quantitative measure of estimating its strength of relationship with the positive and the negative class. Since - in the test set - each patient or control frequentmer is associated with a collection of patient and control sample files, we could classify each frequentmer as *patient* or *control*. Since the frequentmer, by construction, belongs to only one of these two groups, we could assess our prediction by performing a majority vote. \n",
    "\n",
    "If a frequentmer is associated with more patient than or equal to the same number of control sample files (that is, it was found in those files) then we classify it as a patient frequentmer and, respectively, if it is associated with more control than patient files we classify it as control.\n",
    "\n",
    "Then, we can build a confusion matrix around how good the majority voting rule decision model really is.\n",
    "\n",
    "*Note that we filter out the frequentmers that don't reoccur within any of the test sets across different folds. Nonetheless, a frequentmer that appears at least once as a testmer it will be present.*"
   ]
  },
  {
   "cell_type": "code",
   "execution_count": 20,
   "id": "942a7e5e-a59a-46c8-bc76-64dd78cfea51",
   "metadata": {},
   "outputs": [
    {
     "data": {
      "text/html": [
       "<div>\n",
       "<style scoped>\n",
       "    .dataframe tbody tr th:only-of-type {\n",
       "        vertical-align: middle;\n",
       "    }\n",
       "\n",
       "    .dataframe tbody tr th {\n",
       "        vertical-align: top;\n",
       "    }\n",
       "\n",
       "    .dataframe thead th {\n",
       "        text-align: right;\n",
       "    }\n",
       "</style>\n",
       "<table border=\"1\" class=\"dataframe\">\n",
       "  <thead>\n",
       "    <tr style=\"text-align: right;\">\n",
       "      <th></th>\n",
       "      <th>patient_counts</th>\n",
       "      <th>healthy_counts</th>\n",
       "      <th>frequentmer_class</th>\n",
       "      <th>pred</th>\n",
       "    </tr>\n",
       "    <tr>\n",
       "      <th>frequentmer</th>\n",
       "      <th></th>\n",
       "      <th></th>\n",
       "      <th></th>\n",
       "      <th></th>\n",
       "    </tr>\n",
       "  </thead>\n",
       "  <tbody>\n",
       "    <tr>\n",
       "      <th>AAAAAAACACACTAGT</th>\n",
       "      <td>0.1</td>\n",
       "      <td>0.2</td>\n",
       "      <td>patient</td>\n",
       "      <td>healthy</td>\n",
       "    </tr>\n",
       "    <tr>\n",
       "      <th>AAAAAAACCTAGCGAT</th>\n",
       "      <td>3.1</td>\n",
       "      <td>0.0</td>\n",
       "      <td>patient</td>\n",
       "      <td>patient</td>\n",
       "    </tr>\n",
       "    <tr>\n",
       "      <th>AAAAAAACTAAGTGTG</th>\n",
       "      <td>0.2</td>\n",
       "      <td>0.2</td>\n",
       "      <td>patient</td>\n",
       "      <td>patient</td>\n",
       "    </tr>\n",
       "    <tr>\n",
       "      <th>AAAAAACACGTAGCTC</th>\n",
       "      <td>0.6</td>\n",
       "      <td>0.1</td>\n",
       "      <td>patient</td>\n",
       "      <td>patient</td>\n",
       "    </tr>\n",
       "    <tr>\n",
       "      <th>AAAAAACCACCTAGGT</th>\n",
       "      <td>0.0</td>\n",
       "      <td>0.2</td>\n",
       "      <td>patient</td>\n",
       "      <td>healthy</td>\n",
       "    </tr>\n",
       "  </tbody>\n",
       "</table>\n",
       "</div>"
      ],
      "text/plain": [
       "                  patient_counts  healthy_counts frequentmer_class     pred\n",
       "frequentmer                                                                \n",
       "AAAAAAACACACTAGT             0.1             0.2           patient  healthy\n",
       "AAAAAAACCTAGCGAT             3.1             0.0           patient  patient\n",
       "AAAAAAACTAAGTGTG             0.2             0.2           patient  patient\n",
       "AAAAAACACGTAGCTC             0.6             0.1           patient  patient\n",
       "AAAAAACCACCTAGGT             0.0             0.2           patient  healthy"
      ]
     },
     "execution_count": 20,
     "metadata": {},
     "output_type": "execute_result"
    }
   ],
   "source": [
    "def predict(x):\n",
    "    return \"patient\" if x[0] > x[1] else \"healthy\"\n",
    "\n",
    "frequentmers_predictions = grouped_frequentmers[(grouped_frequentmers[\"patient_counts\"] > 0) \\\n",
    "                                        | (grouped_frequentmers[\"healthy_counts\"]>0)]\n",
    "frequentmers_predictions.loc[:, \"pred\"] = grouped_frequentmers[[\"patient_counts\", \n",
    "                                                                \"healthy_counts\"]]\\\n",
    "                                        .apply(lambda row: predict(row), axis=1)\n",
    "frequentmers_predictions.head()"
   ]
  },
  {
   "cell_type": "code",
   "execution_count": 36,
   "id": "b8e279ff-cc4a-4ed1-a17e-7f86562495fc",
   "metadata": {},
   "outputs": [
    {
     "data": {
      "image/png": "[encoded data removed]",
      "text/plain": [
       "<Figure size 576x288 with 1 Axes>"
      ]
     },
     "metadata": {
      "needs_background": "light"
     },
     "output_type": "display_data"
    }
   ],
   "source": [
    "fig, ax = plt.subplots(nrows=1, ncols=1, figsize=(8, 4))\n",
    "sns.countplot(data=frequentmers_predictions, \n",
    "              x=\"frequentmer_class\", \n",
    "              palette=[\"green\", \"red\"], \n",
    "              hue=\"pred\")\n",
    "ax.xaxis.label.set_size(16)\n",
    "ax.yaxis.label.set_size(16)\n",
    "ax.set_xlabel(\"Frequentmer True Class\")\n",
    "ax.set_ylabel(\"Counts (log)\")\n",
    "ax.set_yscale(\"log\")\n",
    "ax.grid(lw=0.4, alpha=0.6)\n",
    "fig.savefig(\"counts_recurrency_20.png\");"
   ]
  },
  {
   "cell_type": "markdown",
   "id": "74fbb59f-a6d8-4ee7-98eb-1f0106663097",
   "metadata": {},
   "source": [
    "We observe that most of the patient frequentmers are indeed classified as patient, i.e. tend to be found in patient samples. The healthy frequentmers tend to be more mixed on average. This is to be expected, since a part of the control genome is superset of the patient group.\n",
    "\n",
    "Let's calculate the confusion matrix."
   ]
  },
  {
   "cell_type": "code",
   "execution_count": 37,
   "id": "af04e238-6eea-438f-96bb-14480b6536e8",
   "metadata": {},
   "outputs": [
    {
     "data": {
      "text/plain": [
       "765447"
      ]
     },
     "execution_count": 37,
     "metadata": {},
     "output_type": "execute_result"
    }
   ],
   "source": [
    "true_positives = frequentmers_predictions[(frequentmers_predictions[\"frequentmer_class\"] == \"patient\") \\\n",
    "                                          & (frequentmers_predictions[\"pred\"] == \"patient\")].shape[0]\n",
    "true_positives"
   ]
  },
  {
   "cell_type": "code",
   "execution_count": 38,
   "id": "5740dd09-d350-4111-af17-cf8fb42295c1",
   "metadata": {},
   "outputs": [
    {
     "data": {
      "text/plain": [
       "1492"
      ]
     },
     "execution_count": 38,
     "metadata": {},
     "output_type": "execute_result"
    }
   ],
   "source": [
    "true_negatives = frequentmers_predictions[(frequentmers_predictions[\"frequentmer_class\"] == \"healthy\") \\\n",
    "                                          & (frequentmers_predictions[\"pred\"] == \"healthy\")].shape[0]\n",
    "true_negatives"
   ]
  },
  {
   "cell_type": "code",
   "execution_count": 39,
   "id": "92c9c881-f761-438a-b9ea-f9b20b64d1a5",
   "metadata": {},
   "outputs": [
    {
     "data": {
      "text/plain": [
       "2648"
      ]
     },
     "execution_count": 39,
     "metadata": {},
     "output_type": "execute_result"
    }
   ],
   "source": [
    "false_positives =  frequentmers_predictions[(frequentmers_predictions[\"frequentmer_class\"] == \"healthy\") \\\n",
    "                                            & (frequentmers_predictions[\"pred\"] == \"patient\")].shape[0]\n",
    "false_positives"
   ]
  },
  {
   "cell_type": "code",
   "execution_count": 40,
   "id": "4c4195e7-0787-4299-b7c6-11ec1155aac5",
   "metadata": {},
   "outputs": [
    {
     "data": {
      "text/plain": [
       "59579"
      ]
     },
     "execution_count": 40,
     "metadata": {},
     "output_type": "execute_result"
    }
   ],
   "source": [
    "false_negatives = frequentmers_predictions[(frequentmers_predictions[\"frequentmer_class\"] == \"patient\") \\\n",
    "                                      & (frequentmers_predictions[\"pred\"] == \"healthy\")].shape[0]\n",
    "false_negatives"
   ]
  },
  {
   "cell_type": "code",
   "execution_count": 41,
   "id": "bbc39da2-967a-4f97-bd53-33dba8809464",
   "metadata": {},
   "outputs": [],
   "source": [
    "from sklearn.metrics import ConfusionMatrixDisplay\n",
    "\n",
    "confusion_matrix = np.array([[true_positives, false_positives],\n",
    "                             [false_negatives, true_negatives]\n",
    "                            ])\n",
    "ConfusionMatrixDisplay(confusion_matrix)\n",
    "plt.show()"
   ]
  },
  {
   "cell_type": "code",
   "execution_count": 45,
   "id": "fe33ba91-bef6-4a93-8ea0-d322ba51f4bc",
   "metadata": {},
   "outputs": [],
   "source": [
    "import math\n",
    "\n",
    "def override(x) -> float:\n",
    "    try:\n",
    "        return math.log(x)\n",
    "    except:\n",
    "        return 0.0 # -float(\"inf\")"
   ]
  },
  {
   "cell_type": "markdown",
   "id": "6902c7c4-6def-4fa2-ba78-fa713e7dd43b",
   "metadata": {},
   "source": [
    "We observe that "
   ]
  },
  {
   "cell_type": "code",
   "execution_count": 46,
   "id": "0552d59f-0d77-4062-a309-1fa137797976",
   "metadata": {},
   "outputs": [
    {
     "data": {
      "image/png": "[encoded data removed]",
      "text/plain": [
       "<Figure size 720x288 with 2 Axes>"
      ]
     },
     "metadata": {
      "needs_background": "light"
     },
     "output_type": "display_data"
    }
   ],
   "source": [
    "fig, ax = plt.subplots(nrows=1, ncols=1, figsize=(10, 4))\n",
    "temp = grouped_frequentmers[grouped_frequentmers[\"frequentmer_class\"] == \"healthy\"]\n",
    "temp.loc[:, \"patient_counts\"] = temp[\"patient_counts\"].apply(override)\n",
    "temp.loc[:, \"healthy_counts\"] = temp[\"healthy_counts\"].apply(override)\n",
    "sns.heatmap(data=temp[[\"healthy_counts\", \"patient_counts\"]], \n",
    "            cmap=\"summer\", \n",
    "            vmax=0.8, \n",
    "            vmin=0,\n",
    "            cbar_kws={'label': 'log (Occurences)'})\n",
    "ax.set_yticks([])\n",
    "ax.set_xticks([0.5, 1.5], [\"Healthy\", \"Patient\"])\n",
    "ax.tick_params(axis=\"both\", labelsize=16)\n",
    "ax.yaxis.label.set_size(16)\n",
    "ax.set_ylabel(\"Frequentmer\")\n",
    "plt.gcf().savefig(\"healthy_heatmap_counts_recurrency_20.png\");"
   ]
  },
  {
   "cell_type": "code",
   "execution_count": 75,
   "id": "0b3f4a32-b6cf-4884-9321-f3e14d0940a4",
   "metadata": {},
   "outputs": [
    {
     "data": {
      "image/png": "[encoded data removed]",
      "text/plain": [
       "<Figure size 720x288 with 2 Axes>"
      ]
     },
     "metadata": {
      "needs_background": "light"
     },
     "output_type": "display_data"
    }
   ],
   "source": [
    "fig, ax = plt.subplots(nrows=1, ncols=1, figsize=(10, 4))\n",
    "temp = grouped_frequentmers[grouped_frequentmers[\"frequentmer_class\"] == \"patient\"]\n",
    "temp.loc[:, \"patient_counts\"] = temp[\"patient_counts\"].apply(override)\n",
    "temp.loc[:, \"healthy_counts\"] = temp[\"healthy_counts\"].apply(override)\n",
    "sns.heatmap(data=temp[[\"healthy_counts\", \"patient_counts\"]], \n",
    "            cmap=\"summer\", \n",
    "            vmax=0.8, \n",
    "            vmin=0,\n",
    "            cbar_kws={'label': 'log (Occurences)'})\n",
    "ax.set_yticks([])\n",
    "ax.set_xticks([0.5, 1.5], [\"Healthy\", \"Patient\"])\n",
    "ax.tick_params(axis=\"both\", labelsize=16)\n",
    "ax.yaxis.label.set_size(16)\n",
    "ax.set_ylabel(\"Frequentmer\")\n",
    "plt.gcf().savefig(\"patient_heatmap_counts_recurrency_20.png\");"
   ]
  },
  {
   "cell_type": "code",
   "execution_count": 79,
   "id": "67ef9e63-3740-4f3d-af12-27d84ed0c98e",
   "metadata": {},
   "outputs": [
    {
     "data": {
      "text/plain": [
       "<Axes: xlabel='healthy_counts', ylabel='patient_counts'>"
      ]
     },
     "execution_count": 79,
     "metadata": {},
     "output_type": "execute_result"
    },
    {
     "data": {
      "image/png": "[encoded data removed]",
      "text/plain": [
       "<Figure size 432x288 with 1 Axes>"
      ]
     },
     "metadata": {
      "needs_background": "light"
     },
     "output_type": "display_data"
    }
   ],
   "source": [
    "sns.boxplot(data=frequentmers_class[frequentmers_class[\"fold_id\"]==1][[\"healthy_counts\", \"patient_counts\"]],\n",
    "           x=\"healthy_counts\", \n",
    "           y=\"patient_counts\")"
   ]
  },
  {
   "cell_type": "code",
   "execution_count": 55,
   "id": "fe51a816-b96f-4efd-be45-a91bbb4a9847",
   "metadata": {},
   "outputs": [
    {
     "data": {
      "text/html": [
       "<div>\n",
       "<style scoped>\n",
       "    .dataframe tbody tr th:only-of-type {\n",
       "        vertical-align: middle;\n",
       "    }\n",
       "\n",
       "    .dataframe tbody tr th {\n",
       "        vertical-align: top;\n",
       "    }\n",
       "\n",
       "    .dataframe thead th {\n",
       "        text-align: right;\n",
       "    }\n",
       "</style>\n",
       "<table border=\"1\" class=\"dataframe\">\n",
       "  <thead>\n",
       "    <tr style=\"text-align: right;\">\n",
       "      <th></th>\n",
       "      <th>frequentmer</th>\n",
       "      <th>length</th>\n",
       "      <th>fold_id</th>\n",
       "      <th>patient_counts</th>\n",
       "      <th>healthy_counts</th>\n",
       "      <th>frequentmer_class</th>\n",
       "      <th>total_counts</th>\n",
       "    </tr>\n",
       "  </thead>\n",
       "  <tbody>\n",
       "    <tr>\n",
       "      <th>0</th>\n",
       "      <td>TGTTGGCCTGTATTAA</td>\n",
       "      <td>23</td>\n",
       "      <td>0</td>\n",
       "      <td>1</td>\n",
       "      <td>0</td>\n",
       "      <td>patient</td>\n",
       "      <td>1</td>\n",
       "    </tr>\n",
       "    <tr>\n",
       "      <th>1</th>\n",
       "      <td>CTGCACAGTTGTCACC</td>\n",
       "      <td>20</td>\n",
       "      <td>0</td>\n",
       "      <td>1</td>\n",
       "      <td>0</td>\n",
       "      <td>patient</td>\n",
       "      <td>1</td>\n",
       "    </tr>\n",
       "  </tbody>\n",
       "</table>\n",
       "</div>"
      ],
      "text/plain": [
       "        frequentmer  length  fold_id  patient_counts  healthy_counts   \n",
       "0  TGTTGGCCTGTATTAA      23        0               1               0  \\\n",
       "1  CTGCACAGTTGTCACC      20        0               1               0   \n",
       "\n",
       "  frequentmer_class  total_counts  \n",
       "0           patient             1  \n",
       "1           patient             1  "
      ]
     },
     "execution_count": 55,
     "metadata": {},
     "output_type": "execute_result"
    }
   ],
   "source": [
    "frequentmers_class.loc[:, \"total_counts\"] = frequentmers_class[\"patient_counts\"] + frequentmers_class[\"healthy_counts\"]\n",
    "frequentmers_class.head(2)"
   ]
  },
  {
   "cell_type": "markdown",
   "id": "0fe828e1-f981-44e0-a941-23c3eae6613b",
   "metadata": {},
   "source": [
    "On the next two graphs, we determine how many files were associated with each patient and control frequentmer on the test set."
   ]
  },
  {
   "cell_type": "code",
   "execution_count": 72,
   "id": "2b2ce154-4f0f-4874-8cec-f0d5663415eb",
   "metadata": {},
   "outputs": [
    {
     "data": {
      "image/png": "[encoded data removed]",
      "text/plain": [
       "<Figure size 720x360 with 1 Axes>"
      ]
     },
     "metadata": {
      "needs_background": "light"
     },
     "output_type": "display_data"
    }
   ],
   "source": [
    "fig, ax = plt.subplots(nrows=1, ncols=1, figsize=(10, 5))\n",
    "\n",
    "sns.boxplot(data=frequentmers_class, \n",
    "            palette=[\"purple\", \"pink\"], \n",
    "            x=\"total_counts\", \n",
    "            y=\"frequentmer_class\")\n",
    "ax.grid(lw=0.4, alpha=0.6)\n",
    "ax.set_xscale(\"log\")\n",
    "ax.set_ylabel(\"\")\n",
    "ax.set_xlabel(\"Number of Frequentmers\")\n",
    "ax.set_yticks(range(2), [\"Patient\", \"Healthy\"])\n",
    "ax.tick_params(axis=\"y\", labelsize=16)\n",
    "ax.xaxis.label.set_size(16)\n",
    "ax.yaxis.label.set_size(16)\n",
    "fig.savefig(f\"testmers_counts_reccurency_{recurrency}.png\");"
   ]
  },
  {
   "cell_type": "code",
   "execution_count": 73,
   "id": "b9900dcd-5a62-4cf7-ac45-2ce7135096d6",
   "metadata": {},
   "outputs": [
    {
     "data": {
      "image/png": "[encoded data removed]",
      "text/plain": [
       "<Figure size 720x360 with 1 Axes>"
      ]
     },
     "metadata": {
      "needs_background": "light"
     },
     "output_type": "display_data"
    }
   ],
   "source": [
    "fig, ax = plt.subplots(nrows=1, ncols=1, figsize=(10, 5))\n",
    "\n",
    "sns.boxplot(data=frequentmers_class[frequentmers_class[\"total_counts\"]>0], \n",
    "            palette=[\"purple\", \"pink\"], \n",
    "            x=\"total_counts\", \n",
    "            y=\"frequentmer_class\")\n",
    "ax.grid(lw=0.4, alpha=0.6)\n",
    "ax.set_xscale(\"log\")\n",
    "ax.set_ylabel(\"\")\n",
    "ax.set_xlabel(\"Number of Frequentmers\")\n",
    "ax.set_yticks(range(2), [\"Patient\", \"Healthy\"])\n",
    "ax.tick_params(axis=\"y\", labelsize=16)\n",
    "ax.xaxis.label.set_size(16)\n",
    "ax.yaxis.label.set_size(16)\n",
    "fig.savefig(f\"frequentmers_total_counts_per_sample_reccurency_{recurrency}.png\");"
   ]
  },
  {
   "cell_type": "markdown",
   "id": "13e62b90-e6c8-40e5-aabd-c7be83580980",
   "metadata": {},
   "source": [
    "### Predictive Analytics\n",
    "\n",
    "#### ROC Curve\n",
    "\n",
    "After conducting the exploratory data analysis we continue with the predictive analytics. The first step is to plot a cross validated ROC curve for logistic regression across all the ten folds."
   ]
  },
  {
   "cell_type": "code",
   "execution_count": 114,
   "id": "f367c0ef-f93d-4858-bbff-e362c7b4dd05",
   "metadata": {},
   "outputs": [],
   "source": [
    "from sklearn.metrics import roc_curve"
   ]
  },
  {
   "cell_type": "code",
   "execution_count": 115,
   "id": "0e05d193-3906-494e-b7ad-22a56dcd80d6",
   "metadata": {},
   "outputs": [],
   "source": [
    "def cross_val_roc(model, X_train_dict, X_test_dict, y_train_dict, y_test_dict) -> Dict[str, np.ndarray]:\n",
    "    \"\"\"\"KFold validation\"\"\"\n",
    "    scores = defaultdict(list)\n",
    "    \n",
    "    mean_fpr = np.linspace(0, 1, 100)\n",
    "    tprs = []\n",
    "    aucs = []\n",
    "    roc_df = pd.DataFrame(columns=[\"true\", \"proba\"])\n",
    "    \n",
    "    for fold_id in X_train_dict:\n",
    "        X_train = X_train_dict[fold_id]\n",
    "        X_test = X_test_dict[fold_id]\n",
    "        y_train = y_train_dict[fold_id]\n",
    "        y_test = y_test_dict[fold_id]\n",
    "        \n",
    "        model.fit(X_train, y_train)\n",
    "\n",
    "        # score model\n",
    "        scores[\"accuracy\"].append(model.score(X_test, y_test))\n",
    "\n",
    "        \n",
    "        y_proba_expensive = model.predict_proba(X_test)[:, 1]\n",
    "        auc_score = roc_auc_score(y_test, y_proba_expensive)\n",
    "\n",
    "        fpr, tpr, _ = roc_curve(y_test, y_proba_expensive)\n",
    "\n",
    "        scores[\"auc_score\"].append(auc_score)\n",
    "\n",
    "        interp_tpr = np.interp(mean_fpr, fpr, tpr)\n",
    "        interp_tpr[0] = 0.0\n",
    "        tprs.append(interp_tpr)\n",
    "        aucs.append(scores[\"auc_score\"][-1])\n",
    "        \n",
    "        \n",
    "        y_pred = model.predict(X_test)\n",
    "        precision = precision_score(y_test, y_pred)\n",
    "        recall = recall_score(y_test, y_pred)\n",
    "        f1 = f1_score(y_test, y_pred)\n",
    "        \n",
    "        scores[\"precision\"].append(precision)\n",
    "        scores[\"recall\"].append(recall)\n",
    "        scores[\"f1\"].append(f1)\n",
    "        \n",
    "      \n",
    "        temp = pd.DataFrame(np.stack([y_test, y_proba_expensive])).T\n",
    "        temp.columns = [\"true\", \"proba\"]\n",
    "        \n",
    "        roc_df = pd.concat([roc_df.reset_index(drop=True), temp], axis=0).reset_index(drop=True)\n",
    "    \n",
    "    # cast lists to numpy arrays\n",
    "    for key in scores.copy():\n",
    "        scores[key] = np.array(scores[key])\n",
    "        \n",
    "    return dict(scores), roc_df, tprs, aucs"
   ]
  },
  {
   "cell_type": "code",
   "execution_count": 116,
   "id": "a1f500d9-bbbf-4e17-a280-e38d9cd68b3d",
   "metadata": {},
   "outputs": [],
   "source": [
    "model = LogisticRegression(max_iter=2000, C=0.01, penalty=\"l2\")\n",
    "\n",
    "scores, roc_df, tprs, aucs = cross_val_roc(model, X_train_dict, X_test_dict, y_train_dict, y_test_dict)"
   ]
  },
  {
   "cell_type": "code",
   "execution_count": 124,
   "id": "c7730d9e-308a-48d4-a432-28b67243b692",
   "metadata": {},
   "outputs": [
    {
     "data": {
      "text/plain": [
       "0.9132069319569318"
      ]
     },
     "execution_count": 124,
     "metadata": {},
     "output_type": "execute_result"
    }
   ],
   "source": [
    "scores[\"auc_score\"].mean()"
   ]
  },
  {
   "cell_type": "code",
   "execution_count": 125,
   "id": "02135293-8941-4c54-8de8-12ad913fee07",
   "metadata": {},
   "outputs": [],
   "source": [
    "from sklearn.metrics import auc"
   ]
  },
  {
   "cell_type": "code",
   "execution_count": 126,
   "id": "60aab528-3975-4f01-b375-78d7e8d30a2b",
   "metadata": {},
   "outputs": [
    {
     "data": {
      "image/png": "[encoded data removed]",
      "text/plain": [
       "<Figure size 576x576 with 1 Axes>"
      ]
     },
     "metadata": {
      "needs_background": "light"
     },
     "output_type": "display_data"
    }
   ],
   "source": [
    "mean_fpr = np.linspace(0, 1, 100)\n",
    "mean_tpr = np.mean(tprs, axis=0)\n",
    "mean_tpr[-1] = 1.0\n",
    "mean_auc = auc(mean_fpr, mean_tpr)\n",
    "std_auc = np.std(aucs)\n",
    "base_fpr = np.linspace(0, 1, 101)\n",
    "mean_fpr = np.linspace(0, 1, 100)\n",
    "\n",
    "# plt.figure(figsize=(8, 8))\n",
    "# plt.axes().set_aspect('equal', 'datalim')\n",
    "\n",
    "\n",
    "fig , ax = plt.subplots(nrows=1, ncols=1, figsize=(8, 8))\n",
    "ax.plot(\n",
    "     mean_fpr,\n",
    "     mean_tpr,\n",
    "     color=\"b\",\n",
    "     label=r\"Mean ROC (AUC = %0.2f $\\pm$ %0.2f)\" % (mean_auc, std_auc),\n",
    "     lw=2,\n",
    "     alpha=0.8,\n",
    " )\n",
    "\n",
    "std_tpr = np.std(tprs, axis=0)\n",
    "tprs_upper = np.minimum(mean_tpr + std_tpr, 1)\n",
    "tprs_lower = np.maximum(mean_tpr - std_tpr, 0)\n",
    "for _ in range(8):\n",
    "    sample = roc_df.sample(60, replace=False)\n",
    "    y_true = sample[\"true\"]\n",
    "    y_proba_expensive = sample[\"proba\"]\n",
    "    fpr_roc, tpr_roc, _ = roc_curve(y_true, y_proba_expensive)\n",
    "    ax.plot(fpr_roc, tpr_roc, color=\"darkgreen\", lw=0.4, alpha=0.6)\n",
    "\n",
    "y_true = roc_df[\"true\"]\n",
    "y_proba_expensive = roc_df[\"proba\"]\n",
    "fpr_roc, tpr_roc, _ = roc_curve(y_true, y_proba_expensive)\n",
    "\n",
    "ax.plot(fpr_roc, tpr_roc, color=\"purple\", lw=1.2, linestyle='--', alpha=1.0)\n",
    "\n",
    "ax.fill_between(\n",
    " mean_fpr,\n",
    " tprs_lower,\n",
    " tprs_upper,\n",
    " color=\"grey\",\n",
    " alpha=0.2,\n",
    " label=r\"$\\pm$ 1 std. dev.\",\n",
    ")\n",
    "\n",
    "ax.set(\n",
    " xlim=[-0.05, 1.05],\n",
    " ylim=[-0.05, 1.05],\n",
    "    xlabel=\"False Positive Rate\",\n",
    "    ylabel=\"True Positive Rate\",\n",
    " # title=\"Receiver operating characteristic example\",\n",
    ")\n",
    "ax.xaxis.label.set_size(16)\n",
    "ax.yaxis.label.set_size(16)\n",
    "# ax.title.set_size(20)\n",
    "ax.plot(base_fpr, base_fpr, color='red', linestyle='--')\n",
    "ax.legend(loc=\"lower right\")\n",
    "ax.grid(lw=0.4, alpha=0.6)\n",
    "plt.show()\n",
    "fig.savefig(f\"logreg_roc_recurrency_{recurrency}.png\")"
   ]
  },
  {
   "cell_type": "markdown",
   "id": "000998e1-fe11-4af1-894a-b6f0535a96bc",
   "metadata": {},
   "source": [
    "#### XGBClassifier ROC Curve"
   ]
  },
  {
   "cell_type": "code",
   "execution_count": 127,
   "id": "ecf5c445-00fb-4afc-8da2-8e1ca2d4b0aa",
   "metadata": {},
   "outputs": [],
   "source": [
    "xgb = XGBClassifier(**{'max_depth': 11, \n",
    "                       'gamma': 0.3, \n",
    "                       'eta': 0.2, \n",
    "                       'alpha': 6}\n",
    ")"
   ]
  },
  {
   "cell_type": "code",
   "execution_count": 128,
   "id": "2c4e539e-00fa-4fb7-80c6-002e68cdd0ca",
   "metadata": {},
   "outputs": [
    {
     "data": {
      "text/plain": [
       "0.9071835109335108"
      ]
     },
     "execution_count": 128,
     "metadata": {},
     "output_type": "execute_result"
    }
   ],
   "source": [
    "cv_results, roc_df, tprs, aucs = cross_val_roc(xgb, X_train_dict, X_test_dict, y_train_dict, y_test_dict)\n",
    "cv_results[\"auc_score\"].mean()"
   ]
  },
  {
   "cell_type": "code",
   "execution_count": 129,
   "id": "d9a4c902-3d1a-4185-8498-95d388053316",
   "metadata": {},
   "outputs": [
    {
     "data": {
      "image/png": "[encoded data removed]",
      "text/plain": [
       "<Figure size 576x576 with 1 Axes>"
      ]
     },
     "metadata": {
      "needs_background": "light"
     },
     "output_type": "display_data"
    }
   ],
   "source": [
    "mean_fpr = np.linspace(0, 1, 100)\n",
    "mean_tpr = np.mean(tprs, axis=0)\n",
    "mean_tpr[-1] = 1.0\n",
    "mean_auc = auc(mean_fpr, mean_tpr)\n",
    "std_auc = np.std(aucs)\n",
    "base_fpr = np.linspace(0, 1, 101)\n",
    "mean_fpr = np.linspace(0, 1, 100)\n",
    "\n",
    "# plt.figure(figsize=(8, 8))\n",
    "# plt.axes().set_aspect('equal', 'datalim')\n",
    "\n",
    "\n",
    "fig , ax = plt.subplots(nrows=1, ncols=1, figsize=(8, 8))\n",
    "ax.plot(\n",
    "     mean_fpr,\n",
    "     mean_tpr,\n",
    "     color=\"b\",\n",
    "     label=r\"Mean ROC (AUC = %0.2f $\\pm$ %0.2f)\" % (mean_auc, std_auc),\n",
    "     lw=2,\n",
    "     alpha=0.8,\n",
    " )\n",
    "\n",
    "std_tpr = np.std(tprs, axis=0)\n",
    "tprs_upper = np.minimum(mean_tpr + std_tpr, 1)\n",
    "tprs_lower = np.maximum(mean_tpr - std_tpr, 0)\n",
    "for _ in range(8):\n",
    "    sample = roc_df.sample(60, replace=False)\n",
    "    y_true = sample[\"true\"]\n",
    "    y_proba_expensive = sample[\"proba\"]\n",
    "    fpr_roc, tpr_roc, _ = roc_curve(y_true, y_proba_expensive)\n",
    "    ax.plot(fpr_roc, tpr_roc, color=\"darkgreen\", lw=0.4, alpha=0.6)\n",
    "\n",
    "y_true = roc_df[\"true\"]\n",
    "y_proba_expensive = roc_df[\"proba\"]\n",
    "fpr_roc, tpr_roc, _ = roc_curve(y_true, y_proba_expensive)\n",
    "\n",
    "ax.plot(fpr_roc, tpr_roc, color=\"purple\", lw=1.2, linestyle='--', alpha=1.0)\n",
    "\n",
    "ax.fill_between(\n",
    " mean_fpr,\n",
    " tprs_lower,\n",
    " tprs_upper,\n",
    " color=\"grey\",\n",
    " alpha=0.2,\n",
    " label=r\"$\\pm$ 1 std. dev.\",\n",
    ")\n",
    "\n",
    "ax.set(\n",
    " xlim=[-0.05, 1.05],\n",
    " ylim=[-0.05, 1.05],\n",
    "    xlabel=\"False Positive Rate\",\n",
    "    ylabel=\"True Positive Rate\",\n",
    " # title=\"Receiver operating characteristic example\",\n",
    ")\n",
    "ax.xaxis.label.set_size(16)\n",
    "ax.yaxis.label.set_size(16)\n",
    "# ax.title.set_size(20)\n",
    "ax.plot(base_fpr, base_fpr, color='red', linestyle='--')\n",
    "ax.legend(loc=\"lower right\")\n",
    "ax.grid(lw=0.4, alpha=0.6)\n",
    "plt.show()\n",
    "fig.savefig(f\"xgb_roc_recurrency_{recurrency}.png\")"
   ]
  },
  {
   "cell_type": "markdown",
   "id": "9087c5fc-5b18-4772-9898-e06753316e3d",
   "metadata": {},
   "source": [
    "#### Coefficience Importance"
   ]
  },
  {
   "cell_type": "code",
   "execution_count": 131,
   "id": "bec42331-09c4-4079-b9f1-2c49ee41478e",
   "metadata": {},
   "outputs": [],
   "source": [
    "def load_train_test_split(fold_id: int, recurrency: int = 15) -> Tuple[pd.DataFrame, ...]:\n",
    "    train_columns, train_df = load_train_data(fold_id, recurrency=recurrency)\n",
    "    test_df = load_test_data(fold_id, train_columns, recurrency=recurrency)\n",
    "    X_train, y_train = get_X_y(train_df)\n",
    "    X_test, y_test = get_X_y(test_df)\n",
    "    return X_train, X_test, y_train, y_test"
   ]
  },
  {
   "cell_type": "code",
   "execution_count": 132,
   "id": "a26bfd04-298c-4ba6-86a6-75b142fbaa51",
   "metadata": {},
   "outputs": [],
   "source": [
    "def cross_val_score(model, cv: int = 10, recurrency: int = 15) -> Dict[str, np.ndarray]:\n",
    "    \"\"\"\"KFold validation\"\"\"\n",
    "    scores = defaultdict(list)\n",
    "    \n",
    "    all_coefs = pd.DataFrame([], columns=[\"frequentmer\", \"importance\", \"fold_id\", \"label\"])\n",
    "    for fold_id in tqdm(range(cv)):\n",
    "        X_train, X_test, y_train, y_test = load_train_test_split(fold_id=fold_id, \n",
    "                                                                 recurrency=recurrency)\n",
    "        \n",
    "        train_fold = pickle.load(open(full_path + f'frequentmers_fold_{fold_id}_recurrency_{recurrency}.json', \"rb\"))\n",
    "        \n",
    "        column_labels = defaultdict(list)\n",
    "        for key, val in train_fold.items():\n",
    "            if val[0].startswith(\"H\"):\n",
    "                label = 0\n",
    "            else:\n",
    "                label = 1\n",
    "                \n",
    "            column_labels[\"frequentmer\"].append(key)\n",
    "            column_labels[\"label\"].append(label)\n",
    "            \n",
    "        column_labels = pd.DataFrame(column_labels)\n",
    "\n",
    "        model.fit(X_train, y_train)\n",
    "        \n",
    "        coefs_df = pd.DataFrame(model.coef_, \n",
    "                                columns=X_train.columns).T\n",
    "        coefs_df.reset_index(inplace=True)\n",
    "        coefs_df.columns = [\"frequentmer\", \"importance\"]\n",
    "        coefs_df.loc[:, \"fold_id\"] = fold_id\n",
    "        \n",
    "        merged_df = coefs_df.merge(column_labels, on=\"frequentmer\", how=\"inner\")\n",
    "            \n",
    "        all_coefs = pd.concat([all_coefs, merged_df], axis=0).reset_index(drop=True)\n",
    "        \n",
    "        # score model\n",
    "        scores[\"accuracy\"].append(model.score(X_test, y_test))\n",
    "        \n",
    "        y_pred = model.predict(X_test)\n",
    "        precision = precision_score(y_test, y_pred)\n",
    "        recall = recall_score(y_test, y_pred)\n",
    "        f1 = f1_score(y_test, y_pred)\n",
    "        \n",
    "        scores[\"precision\"].append(precision)\n",
    "        scores[\"recall\"].append(recall)\n",
    "        scores[\"f1\"].append(f1)\n",
    "    \n",
    "    # cast lists to numpy arrays\n",
    "    for key in scores.copy():\n",
    "        scores[key] = np.array(scores[key])\n",
    "        \n",
    "    return dict(scores), all_coefs"
   ]
  },
  {
   "cell_type": "code",
   "execution_count": 133,
   "id": "546dc635-eca9-44b2-b506-805c7ae750df",
   "metadata": {},
   "outputs": [
    {
     "name": "stderr",
     "output_type": "stream",
     "text": [
      "100%|██████████| 10/10 [03:39<00:00, 21.98s/it]\n"
     ]
    },
    {
     "data": {
      "text/plain": [
       "{'accuracy': array([0.95833333, 0.83333333, 0.79166667, 0.83333333, 0.83333333,\n",
       "        0.83333333, 0.75      , 0.82608696, 0.86956522, 0.7826087 ]),\n",
       " 'precision': array([1.        , 0.73333333, 0.84615385, 0.9       , 0.88888889,\n",
       "        0.84615385, 0.73333333, 0.85714286, 0.92857143, 0.75      ]),\n",
       " 'recall': array([0.92857143, 1.        , 0.78571429, 0.75      , 0.72727273,\n",
       "        0.84615385, 0.84615385, 0.66666667, 0.86666667, 0.81818182]),\n",
       " 'f1': array([0.96296296, 0.84615385, 0.81481481, 0.81818182, 0.8       ,\n",
       "        0.84615385, 0.78571429, 0.75      , 0.89655172, 0.7826087 ])}"
      ]
     },
     "execution_count": 133,
     "metadata": {},
     "output_type": "execute_result"
    }
   ],
   "source": [
    "model = LogisticRegression(C=0.01, max_iter=3000)\n",
    "\n",
    "cv_results, all_coefs = cross_val_score(model, cv=10, recurrency=20)\n",
    "cv_results"
   ]
  },
  {
   "cell_type": "code",
   "execution_count": 134,
   "id": "a9d8f013-ded8-444b-a802-8f47396b6756",
   "metadata": {},
   "outputs": [
    {
     "data": {
      "text/html": [
       "<div>\n",
       "<style scoped>\n",
       "    .dataframe tbody tr th:only-of-type {\n",
       "        vertical-align: middle;\n",
       "    }\n",
       "\n",
       "    .dataframe tbody tr th {\n",
       "        vertical-align: top;\n",
       "    }\n",
       "\n",
       "    .dataframe thead th {\n",
       "        text-align: right;\n",
       "    }\n",
       "</style>\n",
       "<table border=\"1\" class=\"dataframe\">\n",
       "  <thead>\n",
       "    <tr style=\"text-align: right;\">\n",
       "      <th></th>\n",
       "      <th>frequentmer</th>\n",
       "      <th>importance</th>\n",
       "      <th>fold_id</th>\n",
       "      <th>label</th>\n",
       "    </tr>\n",
       "  </thead>\n",
       "  <tbody>\n",
       "    <tr>\n",
       "      <th>0</th>\n",
       "      <td>TGTTGGCCTGTATTAA</td>\n",
       "      <td>0.000284</td>\n",
       "      <td>0</td>\n",
       "      <td>1</td>\n",
       "    </tr>\n",
       "    <tr>\n",
       "      <th>1</th>\n",
       "      <td>CTGCACAGTTGTCACC</td>\n",
       "      <td>0.000852</td>\n",
       "      <td>0</td>\n",
       "      <td>1</td>\n",
       "    </tr>\n",
       "    <tr>\n",
       "      <th>2</th>\n",
       "      <td>AACTTGTGCCATTCTG</td>\n",
       "      <td>0.004109</td>\n",
       "      <td>0</td>\n",
       "      <td>1</td>\n",
       "    </tr>\n",
       "    <tr>\n",
       "      <th>3</th>\n",
       "      <td>TAGCATGAATTCCGCA</td>\n",
       "      <td>0.001777</td>\n",
       "      <td>0</td>\n",
       "      <td>1</td>\n",
       "    </tr>\n",
       "    <tr>\n",
       "      <th>4</th>\n",
       "      <td>GTGGTACGCCGACTGA</td>\n",
       "      <td>0.000281</td>\n",
       "      <td>0</td>\n",
       "      <td>1</td>\n",
       "    </tr>\n",
       "  </tbody>\n",
       "</table>\n",
       "</div>"
      ],
      "text/plain": [
       "        frequentmer  importance fold_id label\n",
       "0  TGTTGGCCTGTATTAA    0.000284       0     1\n",
       "1  CTGCACAGTTGTCACC    0.000852       0     1\n",
       "2  AACTTGTGCCATTCTG    0.004109       0     1\n",
       "3  TAGCATGAATTCCGCA    0.001777       0     1\n",
       "4  GTGGTACGCCGACTGA    0.000281       0     1"
      ]
     },
     "execution_count": 134,
     "metadata": {},
     "output_type": "execute_result"
    }
   ],
   "source": [
    "all_coefs.head()"
   ]
  },
  {
   "cell_type": "code",
   "execution_count": 135,
   "id": "7eab0d82-283f-4086-9387-3c14a01e8de4",
   "metadata": {},
   "outputs": [
    {
     "data": {
      "text/html": [
       "<div>\n",
       "<style scoped>\n",
       "    .dataframe tbody tr th:only-of-type {\n",
       "        vertical-align: middle;\n",
       "    }\n",
       "\n",
       "    .dataframe tbody tr th {\n",
       "        vertical-align: top;\n",
       "    }\n",
       "\n",
       "    .dataframe thead th {\n",
       "        text-align: right;\n",
       "    }\n",
       "</style>\n",
       "<table border=\"1\" class=\"dataframe\">\n",
       "  <thead>\n",
       "    <tr style=\"text-align: right;\">\n",
       "      <th></th>\n",
       "      <th>frequentmer</th>\n",
       "      <th>importance</th>\n",
       "      <th>fold_id</th>\n",
       "      <th>label</th>\n",
       "    </tr>\n",
       "  </thead>\n",
       "  <tbody>\n",
       "    <tr>\n",
       "      <th>0</th>\n",
       "      <td>GAGGGCCAATTAGTGC</td>\n",
       "      <td>0.010960</td>\n",
       "      <td>0</td>\n",
       "      <td>1</td>\n",
       "    </tr>\n",
       "    <tr>\n",
       "      <th>1</th>\n",
       "      <td>AGAGGGCCAATTAGTG</td>\n",
       "      <td>0.010960</td>\n",
       "      <td>0</td>\n",
       "      <td>1</td>\n",
       "    </tr>\n",
       "    <tr>\n",
       "      <th>2</th>\n",
       "      <td>AGAGGGCCAATTAGTG</td>\n",
       "      <td>0.010128</td>\n",
       "      <td>4</td>\n",
       "      <td>1</td>\n",
       "    </tr>\n",
       "    <tr>\n",
       "      <th>3</th>\n",
       "      <td>GAGGGCCAATTAGTGC</td>\n",
       "      <td>0.010128</td>\n",
       "      <td>4</td>\n",
       "      <td>1</td>\n",
       "    </tr>\n",
       "    <tr>\n",
       "      <th>4</th>\n",
       "      <td>ACTCAACAACTATCGC</td>\n",
       "      <td>0.010109</td>\n",
       "      <td>0</td>\n",
       "      <td>1</td>\n",
       "    </tr>\n",
       "    <tr>\n",
       "      <th>...</th>\n",
       "      <td>...</td>\n",
       "      <td>...</td>\n",
       "      <td>...</td>\n",
       "      <td>...</td>\n",
       "    </tr>\n",
       "    <tr>\n",
       "      <th>1827050</th>\n",
       "      <td>GGGCTCGCGAGATCCA</td>\n",
       "      <td>-0.006194</td>\n",
       "      <td>1</td>\n",
       "      <td>0</td>\n",
       "    </tr>\n",
       "    <tr>\n",
       "      <th>1827051</th>\n",
       "      <td>AGTTGTATAAGTAGTC</td>\n",
       "      <td>-0.006275</td>\n",
       "      <td>8</td>\n",
       "      <td>0</td>\n",
       "    </tr>\n",
       "    <tr>\n",
       "      <th>1827052</th>\n",
       "      <td>AGAGATCTGATCCACG</td>\n",
       "      <td>-0.006334</td>\n",
       "      <td>0</td>\n",
       "      <td>0</td>\n",
       "    </tr>\n",
       "    <tr>\n",
       "      <th>1827053</th>\n",
       "      <td>CCGCTTACGTACGTCC</td>\n",
       "      <td>-0.006521</td>\n",
       "      <td>0</td>\n",
       "      <td>0</td>\n",
       "    </tr>\n",
       "    <tr>\n",
       "      <th>1827054</th>\n",
       "      <td>TCGCGAGATCCATGCA</td>\n",
       "      <td>-0.007175</td>\n",
       "      <td>1</td>\n",
       "      <td>0</td>\n",
       "    </tr>\n",
       "  </tbody>\n",
       "</table>\n",
       "<p>1827055 rows × 4 columns</p>\n",
       "</div>"
      ],
      "text/plain": [
       "              frequentmer  importance fold_id label\n",
       "0        GAGGGCCAATTAGTGC    0.010960       0     1\n",
       "1        AGAGGGCCAATTAGTG    0.010960       0     1\n",
       "2        AGAGGGCCAATTAGTG    0.010128       4     1\n",
       "3        GAGGGCCAATTAGTGC    0.010128       4     1\n",
       "4        ACTCAACAACTATCGC    0.010109       0     1\n",
       "...                   ...         ...     ...   ...\n",
       "1827050  GGGCTCGCGAGATCCA   -0.006194       1     0\n",
       "1827051  AGTTGTATAAGTAGTC   -0.006275       8     0\n",
       "1827052  AGAGATCTGATCCACG   -0.006334       0     0\n",
       "1827053  CCGCTTACGTACGTCC   -0.006521       0     0\n",
       "1827054  TCGCGAGATCCATGCA   -0.007175       1     0\n",
       "\n",
       "[1827055 rows x 4 columns]"
      ]
     },
     "execution_count": 135,
     "metadata": {},
     "output_type": "execute_result"
    }
   ],
   "source": [
    "all_coefs.sort_values(by=[\"importance\"], ascending=False, inplace=True)\n",
    "all_coefs.reset_index(drop=True, inplace=True)\n",
    "all_coefs"
   ]
  },
  {
   "cell_type": "code",
   "execution_count": 136,
   "id": "3d36b4d8-be1b-4741-a5ef-4078f1a661b0",
   "metadata": {},
   "outputs": [],
   "source": [
    "grouped = all_coefs.groupby(\"frequentmer\").agg({\"importance\": lambda x: x.sum()/10.0,\n",
    "                                               \"label\": \"first\"})"
   ]
  },
  {
   "cell_type": "code",
   "execution_count": 137,
   "id": "63c76428-7f70-4fc7-8199-d9be9f178143",
   "metadata": {},
   "outputs": [
    {
     "data": {
      "text/html": [
       "<div>\n",
       "<style scoped>\n",
       "    .dataframe tbody tr th:only-of-type {\n",
       "        vertical-align: middle;\n",
       "    }\n",
       "\n",
       "    .dataframe tbody tr th {\n",
       "        vertical-align: top;\n",
       "    }\n",
       "\n",
       "    .dataframe thead th {\n",
       "        text-align: right;\n",
       "    }\n",
       "</style>\n",
       "<table border=\"1\" class=\"dataframe\">\n",
       "  <thead>\n",
       "    <tr style=\"text-align: right;\">\n",
       "      <th></th>\n",
       "      <th>importance</th>\n",
       "      <th>label</th>\n",
       "    </tr>\n",
       "    <tr>\n",
       "      <th>frequentmer</th>\n",
       "      <th></th>\n",
       "      <th></th>\n",
       "    </tr>\n",
       "  </thead>\n",
       "  <tbody>\n",
       "    <tr>\n",
       "      <th>AAAAAAACACACTAGT</th>\n",
       "      <td>0.000313</td>\n",
       "      <td>1</td>\n",
       "    </tr>\n",
       "    <tr>\n",
       "      <th>AAAAAAACCTAGCGAT</th>\n",
       "      <td>0.000493</td>\n",
       "      <td>1</td>\n",
       "    </tr>\n",
       "  </tbody>\n",
       "</table>\n",
       "</div>"
      ],
      "text/plain": [
       "                  importance label\n",
       "frequentmer                       \n",
       "AAAAAAACACACTAGT    0.000313     1\n",
       "AAAAAAACCTAGCGAT    0.000493     1"
      ]
     },
     "execution_count": 137,
     "metadata": {},
     "output_type": "execute_result"
    }
   ],
   "source": [
    "grouped.head(2)"
   ]
  },
  {
   "cell_type": "code",
   "execution_count": 138,
   "id": "27eb154b-39b0-4ac1-9fe6-bcde5b2c04cc",
   "metadata": {},
   "outputs": [
    {
     "data": {
      "text/plain": [
       "0"
      ]
     },
     "execution_count": 138,
     "metadata": {},
     "output_type": "execute_result"
    }
   ],
   "source": [
    "grouped[\"importance\"].isna().sum()"
   ]
  },
  {
   "cell_type": "code",
   "execution_count": 139,
   "id": "3e150a85-0e40-4f29-b5da-b0e89e207dea",
   "metadata": {},
   "outputs": [
    {
     "data": {
      "text/html": [
       "<div>\n",
       "<style scoped>\n",
       "    .dataframe tbody tr th:only-of-type {\n",
       "        vertical-align: middle;\n",
       "    }\n",
       "\n",
       "    .dataframe tbody tr th {\n",
       "        vertical-align: top;\n",
       "    }\n",
       "\n",
       "    .dataframe thead th {\n",
       "        text-align: right;\n",
       "    }\n",
       "</style>\n",
       "<table border=\"1\" class=\"dataframe\">\n",
       "  <thead>\n",
       "    <tr style=\"text-align: right;\">\n",
       "      <th></th>\n",
       "      <th>importance</th>\n",
       "      <th>label</th>\n",
       "      <th>abs_importance</th>\n",
       "    </tr>\n",
       "    <tr>\n",
       "      <th>frequentmer</th>\n",
       "      <th></th>\n",
       "      <th></th>\n",
       "      <th></th>\n",
       "    </tr>\n",
       "  </thead>\n",
       "  <tbody>\n",
       "    <tr>\n",
       "      <th>AAAAAAACACACTAGT</th>\n",
       "      <td>0.000313</td>\n",
       "      <td>1</td>\n",
       "      <td>0.000313</td>\n",
       "    </tr>\n",
       "    <tr>\n",
       "      <th>AAAAAAACCTAGCGAT</th>\n",
       "      <td>0.000493</td>\n",
       "      <td>1</td>\n",
       "      <td>0.000493</td>\n",
       "    </tr>\n",
       "    <tr>\n",
       "      <th>AAAAAAACTAAGTGTG</th>\n",
       "      <td>0.000273</td>\n",
       "      <td>1</td>\n",
       "      <td>0.000273</td>\n",
       "    </tr>\n",
       "    <tr>\n",
       "      <th>AAAAAACACGTAGCTC</th>\n",
       "      <td>0.000066</td>\n",
       "      <td>1</td>\n",
       "      <td>0.000066</td>\n",
       "    </tr>\n",
       "    <tr>\n",
       "      <th>AAAAAACCACCTAGGT</th>\n",
       "      <td>0.000094</td>\n",
       "      <td>1</td>\n",
       "      <td>0.000094</td>\n",
       "    </tr>\n",
       "  </tbody>\n",
       "</table>\n",
       "</div>"
      ],
      "text/plain": [
       "                  importance label  abs_importance\n",
       "frequentmer                                       \n",
       "AAAAAAACACACTAGT    0.000313     1        0.000313\n",
       "AAAAAAACCTAGCGAT    0.000493     1        0.000493\n",
       "AAAAAAACTAAGTGTG    0.000273     1        0.000273\n",
       "AAAAAACACGTAGCTC    0.000066     1        0.000066\n",
       "AAAAAACCACCTAGGT    0.000094     1        0.000094"
      ]
     },
     "execution_count": 139,
     "metadata": {},
     "output_type": "execute_result"
    }
   ],
   "source": [
    "grouped.loc[:, \"abs_importance\"] = grouped[\"importance\"].apply(lambda x: abs(x))\n",
    "grouped.head()"
   ]
  },
  {
   "cell_type": "code",
   "execution_count": 140,
   "id": "ef23ee9d-39e5-4b9e-a9f1-24b9aa1cc1fe",
   "metadata": {},
   "outputs": [
    {
     "data": {
      "text/plain": [
       "label\n",
       "1    852704\n",
       "0      4304\n",
       "Name: count, dtype: int64"
      ]
     },
     "execution_count": 140,
     "metadata": {},
     "output_type": "execute_result"
    }
   ],
   "source": [
    "grouped.label.value_counts()"
   ]
  },
  {
   "cell_type": "code",
   "execution_count": 141,
   "id": "b8c98896-6f54-43cf-a5ad-c3445463acb3",
   "metadata": {},
   "outputs": [
    {
     "name": "stderr",
     "output_type": "stream",
     "text": [
      "100%|██████████| 4999/4999 [00:31<00:00, 160.14it/s]\n"
     ]
    },
    {
     "data": {
      "text/html": [
       "<div>\n",
       "<style scoped>\n",
       "    .dataframe tbody tr th:only-of-type {\n",
       "        vertical-align: middle;\n",
       "    }\n",
       "\n",
       "    .dataframe tbody tr th {\n",
       "        vertical-align: top;\n",
       "    }\n",
       "\n",
       "    .dataframe thead th {\n",
       "        text-align: right;\n",
       "    }\n",
       "</style>\n",
       "<table border=\"1\" class=\"dataframe\">\n",
       "  <thead>\n",
       "    <tr style=\"text-align: right;\">\n",
       "      <th></th>\n",
       "      <th>healthy</th>\n",
       "      <th>patient</th>\n",
       "      <th>ratio</th>\n",
       "    </tr>\n",
       "    <tr>\n",
       "      <th>ceiling</th>\n",
       "      <th></th>\n",
       "      <th></th>\n",
       "      <th></th>\n",
       "    </tr>\n",
       "  </thead>\n",
       "  <tbody>\n",
       "    <tr>\n",
       "      <th>100</th>\n",
       "      <td>3</td>\n",
       "      <td>97</td>\n",
       "      <td>0.970000</td>\n",
       "    </tr>\n",
       "    <tr>\n",
       "      <th>200</th>\n",
       "      <td>11</td>\n",
       "      <td>189</td>\n",
       "      <td>0.945000</td>\n",
       "    </tr>\n",
       "    <tr>\n",
       "      <th>300</th>\n",
       "      <td>16</td>\n",
       "      <td>284</td>\n",
       "      <td>0.946667</td>\n",
       "    </tr>\n",
       "    <tr>\n",
       "      <th>400</th>\n",
       "      <td>27</td>\n",
       "      <td>373</td>\n",
       "      <td>0.932500</td>\n",
       "    </tr>\n",
       "    <tr>\n",
       "      <th>500</th>\n",
       "      <td>41</td>\n",
       "      <td>459</td>\n",
       "      <td>0.918000</td>\n",
       "    </tr>\n",
       "  </tbody>\n",
       "</table>\n",
       "</div>"
      ],
      "text/plain": [
       "         healthy  patient     ratio\n",
       "ceiling                            \n",
       "100            3       97  0.970000\n",
       "200           11      189  0.945000\n",
       "300           16      284  0.946667\n",
       "400           27      373  0.932500\n",
       "500           41      459  0.918000"
      ]
     },
     "execution_count": 141,
     "metadata": {},
     "output_type": "execute_result"
    }
   ],
   "source": [
    "grouped.sort_values(by=[\"abs_importance\"], ascending=False, inplace=True)\n",
    "\n",
    "value_counts = defaultdict(list)\n",
    "\n",
    "for ceiling in tqdm(range(100, 500000, 100)):\n",
    "    values = grouped.head(ceiling)[\"label\"].value_counts().to_dict()\n",
    "    value_counts[\"ceiling\"].append(ceiling)\n",
    "    value_counts[\"healthy\"].append(values[0] if 0 in values else 0)\n",
    "    value_counts[\"patient\"].append(values[1])\n",
    "\n",
    "value_counts = pd.DataFrame(value_counts)\n",
    "value_counts = value_counts.set_index(\"ceiling\")\n",
    "value_counts.loc[:, \"ratio\"] = value_counts[\"patient\"]/(value_counts[\"healthy\"] + value_counts[\"patient\"])\n",
    "value_counts.head()"
   ]
  },
  {
   "cell_type": "code",
   "execution_count": 142,
   "id": "fbdaf85e-25ea-4d88-a724-e0b1b364e36b",
   "metadata": {},
   "outputs": [
    {
     "data": {
      "image/png": "[encoded data removed]",
      "text/plain": [
       "<Figure size 720x288 with 1 Axes>"
      ]
     },
     "metadata": {
      "needs_background": "light"
     },
     "output_type": "display_data"
    }
   ],
   "source": [
    "fig, ax = plt.subplots(nrows=1, ncols=1, figsize=(10, 4))\n",
    "value_counts[[\"ratio\"]].plot(color=\"gray\", ax=ax)\n",
    "ax.legend(handles=[], frameon=False)\n",
    "ax.grid(lw=0.4, alpha=0.6)\n",
    "ax.set_xlabel(\"Ranking of Top Features\")\n",
    "ax.set_ylabel(\"Frequentmer Ratio\")\n",
    "ax.xaxis.label.set_size(16)\n",
    "ax.yaxis.label.set_size(16)\n",
    "fig.savefig(f\"patient_vs_total_ratio_importance_recurrency_{recurrency}.png\")"
   ]
  },
  {
   "cell_type": "code",
   "execution_count": 143,
   "id": "ba76c9b3-259b-45ce-bed9-db9fd7be2342",
   "metadata": {},
   "outputs": [
    {
     "data": {
      "image/png": "[encoded data removed]",
      "text/plain": [
       "<Figure size 720x288 with 1 Axes>"
      ]
     },
     "metadata": {
      "needs_background": "light"
     },
     "output_type": "display_data"
    }
   ],
   "source": [
    "fig, ax = plt.subplots(nrows=1, ncols=1, figsize=(10, 4))\n",
    "value_counts[[\"healthy\", \"patient\"]].plot( \n",
    "                                                               ax=ax, \n",
    "                                                               lw=2.0,\n",
    "                                                               linestyle='--',\n",
    "                                                               color=[\"purple\", \"pink\"])\n",
    "ax.grid(lw=0.4, alpha=0.6)\n",
    "ax.set_yscale(\"log\")\n",
    "ax.xaxis.label.set_size(16)\n",
    "ax.set_xlabel(\"Ranking of Top Features\")\n",
    "ax.set_ylabel(\"Occurrences\")\n",
    "ax.yaxis.label.set_size(16)\n",
    "# ax.set_xticks([])\n",
    "ax.legend(handles=[], frameon=False)\n",
    "fig.savefig(f\"healthy_patient_frequentmers_breakdown_sorted_importance_recurrency_{recurrency}.png\");"
   ]
  },
  {
   "cell_type": "code",
   "execution_count": null,
   "id": "ded7e0f2-085e-4a68-a7bd-914e18976112",
   "metadata": {},
   "outputs": [],
   "source": []
  },
  {
   "cell_type": "code",
   "execution_count": null,
   "id": "800790f1-7804-4089-be55-da8f8885af6a",
   "metadata": {},
   "outputs": [],
   "source": []
  },
  {
   "cell_type": "code",
   "execution_count": null,
   "id": "a597bcad-4bc2-409c-9726-928f12b3503c",
   "metadata": {},
   "outputs": [],
   "source": []
  },
  {
   "cell_type": "code",
   "execution_count": null,
   "id": "fbbfc8f6-1ef0-4819-8b21-d132c56b04f6",
   "metadata": {},
   "outputs": [],
   "source": []
  },
  {
   "cell_type": "code",
   "execution_count": 118,
   "id": "7e0286f2-4a44-45af-b878-cc075544f526",
   "metadata": {},
   "outputs": [
    {
     "name": "stderr",
     "output_type": "stream",
     "text": [
      "100%|██████████| 10/10 [00:39<00:00,  3.95s/it]\n"
     ]
    },
    {
     "data": {
      "text/html": [
       "<div>\n",
       "<style scoped>\n",
       "    .dataframe tbody tr th:only-of-type {\n",
       "        vertical-align: middle;\n",
       "    }\n",
       "\n",
       "    .dataframe tbody tr th {\n",
       "        vertical-align: top;\n",
       "    }\n",
       "\n",
       "    .dataframe thead th {\n",
       "        text-align: right;\n",
       "    }\n",
       "</style>\n",
       "<table border=\"1\" class=\"dataframe\">\n",
       "  <thead>\n",
       "    <tr style=\"text-align: right;\">\n",
       "      <th></th>\n",
       "      <th>fold_id</th>\n",
       "      <th>auc_score</th>\n",
       "      <th>sample_size</th>\n",
       "    </tr>\n",
       "  </thead>\n",
       "  <tbody>\n",
       "    <tr>\n",
       "      <th>0</th>\n",
       "      <td>0</td>\n",
       "      <td>0.732143</td>\n",
       "      <td>10</td>\n",
       "    </tr>\n",
       "    <tr>\n",
       "      <th>1</th>\n",
       "      <td>0</td>\n",
       "      <td>0.921429</td>\n",
       "      <td>20</td>\n",
       "    </tr>\n",
       "    <tr>\n",
       "      <th>2</th>\n",
       "      <td>0</td>\n",
       "      <td>0.950000</td>\n",
       "      <td>30</td>\n",
       "    </tr>\n",
       "    <tr>\n",
       "      <th>3</th>\n",
       "      <td>0</td>\n",
       "      <td>0.914286</td>\n",
       "      <td>40</td>\n",
       "    </tr>\n",
       "    <tr>\n",
       "      <th>4</th>\n",
       "      <td>0</td>\n",
       "      <td>0.907143</td>\n",
       "      <td>50</td>\n",
       "    </tr>\n",
       "  </tbody>\n",
       "</table>\n",
       "</div>"
      ],
      "text/plain": [
       "   fold_id  auc_score  sample_size\n",
       "0        0   0.732143           10\n",
       "1        0   0.921429           20\n",
       "2        0   0.950000           30\n",
       "3        0   0.914286           40\n",
       "4        0   0.907143           50"
      ]
     },
     "execution_count": 118,
     "metadata": {},
     "output_type": "execute_result"
    }
   ],
   "source": [
    "feature_importance_score = defaultdict(list)\n",
    "\n",
    "model = LogisticRegression(C=0.01, max_iter=2000, penalty=\"l2\")\n",
    "cv = 10\n",
    "for fold_id in tqdm(range(cv)):\n",
    "        model.fit(X_train_dict[fold_id], y_train_dict[fold_id])\n",
    "        \n",
    "        coefficients = pd.DataFrame(model.coef_, columns=X_train_dict_columns[fold_id]).T.reset_index()\n",
    "        coefficients.columns = [\"frequentmer\", \"importance\"]\n",
    "        coefficients.loc[:, \"abs_importance\"] = coefficients[\"importance\"].apply(abs)\n",
    "        coefficients.sort_values(by=[\"abs_importance\"], ascending=False, inplace=True)\n",
    "        coefficients.reset_index(drop=True, inplace=True)\n",
    "        \n",
    "        for sample_size in range(10, 1010, 10):\n",
    "            coefficients_chunk = coefficients.head(sample_size)[\"frequentmer\"].tolist()\n",
    "            \n",
    "            model = LogisticRegression(C=0.01, max_iter=2000, penalty=\"l2\")\n",
    "            model.fit(X_train_dict[fold_id][coefficients_chunk], y_train_dict[fold_id])\n",
    "            \n",
    "            y_pred_proba_patient = model.predict_proba(X_test_dict[fold_id][coefficients_chunk])[:, 1]\n",
    "            auc_roc = roc_auc_score(y_test_dict[fold_id], y_pred_proba_patient)\n",
    "            \n",
    "            feature_importance_score[\"fold_id\"].append(fold_id)\n",
    "            feature_importance_score[\"auc_score\"].append(auc_roc)\n",
    "            feature_importance_score[\"sample_size\"].append(sample_size)\n",
    "            \n",
    "            \n",
    "            \n",
    "feature_importance_score_df = pd.DataFrame(feature_importance_score)\n",
    "feature_importance_score_df.head()"
   ]
  },
  {
   "cell_type": "code",
   "execution_count": 119,
   "id": "761abd5b-225a-4827-8609-57e490648402",
   "metadata": {},
   "outputs": [
    {
     "data": {
      "image/png": "[encoded data removed]",
      "text/plain": [
       "<Figure size 720x288 with 1 Axes>"
      ]
     },
     "metadata": {
      "needs_background": "light"
     },
     "output_type": "display_data"
    }
   ],
   "source": [
    "fig, ax = plt.subplots(nrows=1, ncols=1, figsize=(10, 4))\n",
    "grouped_importance_per_sample_size = feature_importance_score_df.groupby(\"sample_size\").agg(auc_score_mean=(\"auc_score\", \"mean\"), \n",
    "                                                        auc_score_std_upper=(\"auc_score\", lambda x: x.mean() - x.std()),\n",
    "                                                          auc_score_std_lower=(\"auc_score\", lambda x: x.mean() + x.std())\n",
    "                                                      )\n",
    "                            \n",
    "xs = grouped_importance_per_sample_size.index.tolist()\n",
    "ax = plt.gca()\n",
    "grouped_importance_per_sample_size[\"auc_score_mean\"].plot(\n",
    "             linestyle='--', \n",
    "             lw=1.5, \n",
    "             color=\"navy\", \n",
    "             marker='o',\n",
    "            markersize=4,\n",
    "             ax=ax)\n",
    "ax.fill_between(xs, grouped_importance_per_sample_size[\"auc_score_std_lower\"],\n",
    "                   grouped_importance_per_sample_size[\"auc_score_std_upper\"],\n",
    "                color='gray',\n",
    "                alpha=0.4,\n",
    "               )\n",
    "ax.xaxis.label.set_size(16)\n",
    "ax.yaxis.label.set_size(16)\n",
    "ax.set_xlabel(\"Number of Frequentmers\")\n",
    "ax.set_ylabel(\"AUC Score\")\n",
    "ax.grid(lw=0.4 , alpha=0.6)\n",
    "fig.savefig(f\"top_features_auc_logistic_recurrency_{recurrency}.png\");"
   ]
  },
  {
   "cell_type": "markdown",
   "id": "6904c8ff-0ba8-44e1-aa4e-5bd91a68affa",
   "metadata": {},
   "source": [
    "### PCA"
   ]
  },
  {
   "cell_type": "markdown",
   "id": "827a2a85-1a13-4493-b22c-ec9497e7e07a",
   "metadata": {},
   "source": []
  },
  {
   "cell_type": "code",
   "execution_count": null,
   "id": "8193fe36-7216-498f-b918-81f1afb60d08",
   "metadata": {},
   "outputs": [],
   "source": []
  },
  {
   "cell_type": "code",
   "execution_count": null,
   "id": "8df26db1-b147-4b82-a705-f98f032e37ba",
   "metadata": {},
   "outputs": [],
   "source": []
  },
  {
   "cell_type": "code",
   "execution_count": null,
   "id": "309097c2-3553-467d-b53d-67576b32b9ed",
   "metadata": {},
   "outputs": [],
   "source": []
  },
  {
   "cell_type": "markdown",
   "id": "b9e131fa-7c8e-4c14-8afe-9646f87ce9a5",
   "metadata": {},
   "source": [
    "### HBV & Alcohol Frequentmers"
   ]
  },
  {
   "cell_type": "code",
   "execution_count": null,
   "id": "a263c37f-3a0c-415a-b731-82564918c462",
   "metadata": {},
   "outputs": [],
   "source": []
  },
  {
   "cell_type": "markdown",
   "id": "8634ae86-c6e4-4b46-bc30-94fe792b2f5d",
   "metadata": {},
   "source": [
    "#### Alcohol Patients"
   ]
  },
  {
   "cell_type": "code",
   "execution_count": 12,
   "id": "9f9ba876-726e-4af0-addf-ab160046b1ae",
   "metadata": {},
   "outputs": [
    {
     "data": {
      "text/html": [
       "<div>\n",
       "<style scoped>\n",
       "    .dataframe tbody tr th:only-of-type {\n",
       "        vertical-align: middle;\n",
       "    }\n",
       "\n",
       "    .dataframe tbody tr th {\n",
       "        vertical-align: top;\n",
       "    }\n",
       "\n",
       "    .dataframe thead th {\n",
       "        text-align: right;\n",
       "    }\n",
       "</style>\n",
       "<table border=\"1\" class=\"dataframe\">\n",
       "  <thead>\n",
       "    <tr style=\"text-align: right;\">\n",
       "      <th></th>\n",
       "      <th>Sample ID</th>\n",
       "      <th>Country</th>\n",
       "      <th>Gender</th>\n",
       "      <th>Age</th>\n",
       "      <th>BMI (kg/m2)</th>\n",
       "      <th>Cirrhotic</th>\n",
       "      <th>HBV</th>\n",
       "      <th>alcohol</th>\n",
       "    </tr>\n",
       "  </thead>\n",
       "  <tbody>\n",
       "    <tr>\n",
       "      <th>0</th>\n",
       "      <td>HD-1</td>\n",
       "      <td>China</td>\n",
       "      <td>female</td>\n",
       "      <td>40</td>\n",
       "      <td>20.028842</td>\n",
       "      <td>N</td>\n",
       "      <td>N</td>\n",
       "      <td>N</td>\n",
       "    </tr>\n",
       "    <tr>\n",
       "      <th>1</th>\n",
       "      <td>HD-2</td>\n",
       "      <td>China</td>\n",
       "      <td>female</td>\n",
       "      <td>46</td>\n",
       "      <td>20.829995</td>\n",
       "      <td>N</td>\n",
       "      <td>N</td>\n",
       "      <td>N</td>\n",
       "    </tr>\n",
       "    <tr>\n",
       "      <th>2</th>\n",
       "      <td>HD-3</td>\n",
       "      <td>China</td>\n",
       "      <td>male</td>\n",
       "      <td>45</td>\n",
       "      <td>19.579672</td>\n",
       "      <td>N</td>\n",
       "      <td>N</td>\n",
       "      <td>N</td>\n",
       "    </tr>\n",
       "    <tr>\n",
       "      <th>3</th>\n",
       "      <td>HD-4</td>\n",
       "      <td>China</td>\n",
       "      <td>male</td>\n",
       "      <td>38</td>\n",
       "      <td>20.047446</td>\n",
       "      <td>N</td>\n",
       "      <td>N</td>\n",
       "      <td>N</td>\n",
       "    </tr>\n",
       "    <tr>\n",
       "      <th>4</th>\n",
       "      <td>HD-5</td>\n",
       "      <td>China</td>\n",
       "      <td>female</td>\n",
       "      <td>43</td>\n",
       "      <td>22.375680</td>\n",
       "      <td>N</td>\n",
       "      <td>N</td>\n",
       "      <td>N</td>\n",
       "    </tr>\n",
       "  </tbody>\n",
       "</table>\n",
       "</div>"
      ],
      "text/plain": [
       "  Sample ID Country  Gender   Age  BMI (kg/m2) Cirrhotic HBV alcohol\n",
       "0      HD-1   China   female   40    20.028842         N   N       N\n",
       "1      HD-2   China   female   46    20.829995         N   N       N\n",
       "2      HD-3   China     male   45    19.579672         N   N       N\n",
       "3      HD-4   China     male   38    20.047446         N   N       N\n",
       "4      HD-5   China   female   43    22.375680         N   N       N"
      ]
     },
     "execution_count": 12,
     "metadata": {},
     "output_type": "execute_result"
    }
   ],
   "source": [
    "sample_df = pd.read_excel(\"nature13568-s1/Table 1.xlsx\").iloc[:, 1:9]\\\n",
    "                .rename(columns={\"Alcohol related (Y or N)\": \"alcohol\",\n",
    "                                \"Cirrhotic(Y or N)\": \"Cirrhotic\",\n",
    "                                \"HBV related  (Y or N)\": \"HBV\"\n",
    "                        })\n",
    "sample_df.head()"
   ]
  },
  {
   "cell_type": "code",
   "execution_count": 13,
   "id": "ae609bb7-a1f1-47ca-98f4-ade1aa82ccf8",
   "metadata": {},
   "outputs": [
    {
     "data": {
      "text/plain": [
       "34"
      ]
     },
     "execution_count": 13,
     "metadata": {},
     "output_type": "execute_result"
    }
   ],
   "source": [
    "samples_with_positive_alcohol = sample_df[sample_df[\"alcohol\"] == \"Y\"][\"Sample ID\"].tolist()\n",
    "len(samples_with_positive_alcohol)"
   ]
  },
  {
   "cell_type": "code",
   "execution_count": 14,
   "id": "bfae642f-0e40-41dc-9adf-add5d62c3d57",
   "metadata": {},
   "outputs": [
    {
     "data": {
      "text/plain": [
       "203"
      ]
     },
     "execution_count": 14,
     "metadata": {},
     "output_type": "execute_result"
    }
   ],
   "source": [
    "all_samples = set(sample_df[\"Sample ID\"].tolist())\n",
    "without_alcohol = all_samples - set(samples_with_positive_alcohol)\n",
    "len(without_alcohol)"
   ]
  },
  {
   "cell_type": "code",
   "execution_count": 15,
   "id": "4dd94692-d7aa-4e5e-8278-217a93726d51",
   "metadata": {},
   "outputs": [
    {
     "name": "stderr",
     "output_type": "stream",
     "text": [
      "100%|██████████| 10/10 [00:47<00:00,  4.78s/it]\n"
     ]
    }
   ],
   "source": [
    "alcoholic_frequentmers = defaultdict(set)\n",
    "total_alcohol_frequentmers = 0\n",
    "total_mixed = 0\n",
    "for fold_id in tqdm(range(10)):\n",
    "    with frequentmers_path.joinpath(f\"frequentmers_fold_{fold_id}_recurrency_15.json\").open(\"rb\") as f:\n",
    "        frequentmers = pickle.load(f)\n",
    "        \n",
    "    for frequentmer, list_of_samples in frequentmers.items():\n",
    "        if any(sample.split(\".\")[0] in samples_with_positive_alcohol for sample in list_of_samples):\n",
    "            total_alcohol_frequentmers += 1\n",
    "            if any(sample.split(\".\")[0] in without_alcohol for sample in list_of_samples):\n",
    "                total_mixed += 1\n",
    "            \n",
    "        if all(sample.split(\".\")[0] in samples_with_positive_alcohol for sample in list_of_samples):\n",
    "            alcoholic_frequentmers[frequentmer] = alcoholic_frequentmers[frequentmer].union(list_of_samples)"
   ]
  },
  {
   "cell_type": "code",
   "execution_count": 16,
   "id": "74242c28-ad97-4eb3-b021-9c4516b9aeb0",
   "metadata": {},
   "outputs": [],
   "source": [
    "lengths = list(map(len, frequentmers.values()))"
   ]
  },
  {
   "cell_type": "code",
   "execution_count": 17,
   "id": "698581ba-e1d6-4174-9358-efba2e3cdf4c",
   "metadata": {},
   "outputs": [
    {
     "data": {
      "text/plain": [
       "(15, 59)"
      ]
     },
     "execution_count": 17,
     "metadata": {},
     "output_type": "execute_result"
    }
   ],
   "source": [
    "min(lengths), max(lengths)"
   ]
  },
  {
   "cell_type": "code",
   "execution_count": 18,
   "id": "2f6cc99c-e244-43b9-bf56-9fd214ca9e2d",
   "metadata": {},
   "outputs": [
    {
     "data": {
      "text/plain": [
       "(5524050, 5524050)"
      ]
     },
     "execution_count": 18,
     "metadata": {},
     "output_type": "execute_result"
    }
   ],
   "source": [
    "total_alcohol_frequentmers, total_mixed"
   ]
  },
  {
   "cell_type": "code",
   "execution_count": 19,
   "id": "d2aebeeb-fd3c-4f06-bea8-1c8553b2cce5",
   "metadata": {},
   "outputs": [
    {
     "data": {
      "text/plain": [
       "0"
      ]
     },
     "execution_count": 19,
     "metadata": {},
     "output_type": "execute_result"
    }
   ],
   "source": [
    "total_alcohol_frequentmers - total_mixed"
   ]
  },
  {
   "cell_type": "code",
   "execution_count": 20,
   "id": "cc3a81e7-e893-4110-9c1c-ea4c1a3289f6",
   "metadata": {},
   "outputs": [
    {
     "data": {
      "image/png": "[encoded data removed]",
      "text/plain": [
       "<Figure size 432x288 with 1 Axes>"
      ]
     },
     "metadata": {
      "needs_background": "light"
     },
     "output_type": "display_data"
    }
   ],
   "source": [
    "lengths = list(map(len, alcoholic_frequentmers.values()))\n",
    "sns.histplot(lengths, bins=4, color=\"darkcyan\")\n",
    "ax = plt.gca()\n",
    "ax.grid(lw=0.4, alpha=0.6)\n",
    "ax.set_xlabel(\"Number of Patients\")\n",
    "ax.set_ylabel(\"Occurrences\")\n",
    "# ax.set_xticks(range(1, 1+len(counts)), [\"\" if idx%3 else round(tick, 1) for idx, tick in enumerate(counts.keys())])\n",
    "ax.xaxis.label.set_size(16)\n",
    "ax.yaxis.label.set_size(16)\n",
    "ax.set_yscale(\"log\")\n",
    "plt.gcf().savefig(f\"drunklog_frequentmers_recurrency_{recurrency}_remake.png\")"
   ]
  },
  {
   "cell_type": "code",
   "execution_count": null,
   "id": "1dd5bc71-7cb9-45a4-a6c0-f956fe8aede0",
   "metadata": {},
   "outputs": [],
   "source": []
  },
  {
   "cell_type": "code",
   "execution_count": null,
   "id": "20ae83ff-5d29-4b39-a410-81d5eadd4389",
   "metadata": {},
   "outputs": [],
   "source": []
  },
  {
   "cell_type": "markdown",
   "id": "7ac7fc08-72d5-4f94-8b0c-aee58de7e4f1",
   "metadata": {},
   "source": [
    "#### HBV patients"
   ]
  },
  {
   "cell_type": "code",
   "execution_count": 91,
   "id": "dd5c2d8c-08d3-4289-99d7-bb3958d2a37e",
   "metadata": {},
   "outputs": [
    {
     "data": {
      "text/plain": [
       "99"
      ]
     },
     "execution_count": 91,
     "metadata": {},
     "output_type": "execute_result"
    }
   ],
   "source": [
    "samples_with_positive_HBV = sample_df[sample_df[\"HBV\"] == \"Y\"][\"Sample ID\"].tolist()\n",
    "len(samples_with_positive_HBV)"
   ]
  },
  {
   "cell_type": "code",
   "execution_count": 99,
   "id": "5d2e2463-9120-4761-9bdf-67d719da3c94",
   "metadata": {},
   "outputs": [
    {
     "name": "stderr",
     "output_type": "stream",
     "text": [
      "100%|██████████| 10/10 [00:44<00:00,  4.46s/it]\n"
     ]
    }
   ],
   "source": [
    "hbv_frequentmers = defaultdict(set)\n",
    "\n",
    "recurrency = 15\n",
    "for fold_id in tqdm(range(10)):\n",
    "    with frequentmers_path.joinpath(f\"frequentmers_fold_{fold_id}_recurrency_{recurrency}.json\").open(\"rb\") as f:\n",
    "        frequentmers = pickle.load(f)\n",
    "        \n",
    "    for frequentmer, list_of_samples in frequentmers.items():\n",
    "        if all(sample.split(\".\")[0] in samples_with_positive_HBV for sample in list_of_samples):\n",
    "            hbv_frequentmers[frequentmer] = hbv_frequentmers[frequentmer].union(set(list_of_samples))"
   ]
  },
  {
   "cell_type": "code",
   "execution_count": 100,
   "id": "6374b5c7-6ca6-449b-8b37-d8857847e906",
   "metadata": {},
   "outputs": [
    {
     "data": {
      "text/plain": [
       "55780"
      ]
     },
     "execution_count": 100,
     "metadata": {},
     "output_type": "execute_result"
    }
   ],
   "source": [
    "len(hbv_frequentmers)"
   ]
  },
  {
   "cell_type": "markdown",
   "id": "0e59ae35-79cc-479e-981e-325a9b896b5c",
   "metadata": {},
   "source": [
    "Performing some sanity checks..."
   ]
  },
  {
   "cell_type": "code",
   "execution_count": 101,
   "id": "db5b4b48-ac8b-4480-a277-f52fdd3d28fe",
   "metadata": {},
   "outputs": [],
   "source": [
    "assert set(samples_with_positive_HBV) == {file.split(\".\")[0] for collection in hbv_frequentmers.values() for file in collection}"
   ]
  },
  {
   "cell_type": "code",
   "execution_count": 102,
   "id": "f330205b-6329-4a8c-8206-d9ceae261286",
   "metadata": {},
   "outputs": [],
   "source": [
    "for hbv_files in hbv_frequentmers.values():\n",
    "    for file in hbv_files:\n",
    "        if file.split(\".\")[0] not in samples_with_positive_HBV:\n",
    "            print(file)"
   ]
  },
  {
   "cell_type": "code",
   "execution_count": 103,
   "id": "59f4c762-cb44-47e0-8e31-784b2abc8348",
   "metadata": {},
   "outputs": [
    {
     "data": {
      "text/plain": [
       "99"
      ]
     },
     "execution_count": 103,
     "metadata": {},
     "output_type": "execute_result"
    }
   ],
   "source": [
    "len({sample.split(\".\")[0] for samples_found in hbv_frequentmers.values() for sample in samples_found})"
   ]
  },
  {
   "cell_type": "code",
   "execution_count": 104,
   "id": "a8e549f3-fc79-412e-8e41-523034956393",
   "metadata": {},
   "outputs": [
    {
     "data": {
      "image/png": "[encoded data removed]",
      "text/plain": [
       "<Figure size 432x288 with 1 Axes>"
      ]
     },
     "metadata": {
      "needs_background": "light"
     },
     "output_type": "display_data"
    }
   ],
   "source": [
    "lengths = list(map(len, hbv_frequentmers.values()))\n",
    "# counts = {count/99.0: lengths.count(count) for count in set(lengths)}\n",
    "sns.histplot(lengths, bins=22, color=\"orchid\")\n",
    "ax = plt.gca()\n",
    "ax.grid(lw=0.4, alpha=0.6)\n",
    "ax.set_xlabel(\"Number of Patients\")\n",
    "ax.set_ylabel(\"Occurrences\")\n",
    "# ax.set_xticks(range(1, 1+len(counts)), [\"\" if idx%3 else round(tick, 1) for idx, tick in enumerate(counts.keys())])\n",
    "ax.xaxis.label.set_size(16)\n",
    "ax.yaxis.label.set_size(16)\n",
    "ax.set_yscale(\"log\")\n",
    "plt.gcf().savefig(f\"drunklog_frequentmers_hbv_recurrency_{recurrency}_remake.png\")"
   ]
  },
  {
   "cell_type": "code",
   "execution_count": 108,
   "id": "f993b043-f12a-48ab-9d4e-fd8030a5d1f9",
   "metadata": {},
   "outputs": [],
   "source": [
    "lengths = list(map(len, hbv_frequentmers.values()))\n",
    "counts = {count/99.0: lengths.count(count) for count in set(lengths)}"
   ]
  },
  {
   "cell_type": "code",
   "execution_count": 110,
   "id": "c95bf30a-62b1-445f-8ba2-1f11a73d748f",
   "metadata": {},
   "outputs": [
    {
     "data": {
      "image/png": "[encoded data removed]",
      "text/plain": [
       "<Figure size 432x288 with 1 Axes>"
      ]
     },
     "metadata": {
      "needs_background": "light"
     },
     "output_type": "display_data"
    }
   ],
   "source": [
    "sns.histplot(lengths, bins=24, color=\"darkcyan\")\n",
    "ax = plt.gca()\n",
    "ax.grid(lw=0.4, alpha=0.6)\n",
    "ax.set_xlabel(\"Proportion\")\n",
    "ax.set_ylabel(\"Occurrences\")\n",
    "ax.set_xticks(range(1, 1+len(counts)), [\"\" if idx%3 else round(tick, 1) for idx, tick in enumerate(counts.keys())])\n",
    "ax.xaxis.label.set_size(16)\n",
    "ax.yaxis.label.set_size(16)\n",
    "ax.set_yscale(\"log\")\n",
    "plt.gcf().savefig(f\"drunklog_frequentmers_recurrency_{recurrency}.png\")"
   ]
  },
  {
   "cell_type": "code",
   "execution_count": 111,
   "id": "70c8b89f-7c4a-4d0b-95c5-1c05fb895b91",
   "metadata": {},
   "outputs": [
    {
     "data": {
      "image/png": "[encoded data removed]",
      "text/plain": [
       "<Figure size 432x288 with 1 Axes>"
      ]
     },
     "metadata": {
      "needs_background": "light"
     },
     "output_type": "display_data"
    }
   ],
   "source": [
    "lengths = list(map(len, hbv_frequentmers.values()))\n",
    "sns.histplot(lengths, bins=24, color=\"maroon\")\n",
    "ax = plt.gca()\n",
    "ax.grid(lw=0.4, alpha=0.6)\n",
    "ax.set_xlabel(\"Proportion\")\n",
    "ax.set_ylabel(\"Occurrences\")\n",
    "# ax.set_xticks(range(1, 1+len(counts)), [\"\" if idx%3 else round(tick, 1) for idx, tick in enumerate(counts.keys())])\n",
    "ax.xaxis.label.set_size(16)\n",
    "ax.yaxis.label.set_size(16)\n",
    "ax.set_yscale(\"log\")\n",
    "plt.gcf().savefig(f\"drunklog_frequentmers_hbv_recurrency_{recurrency}.png\")"
   ]
  },
  {
   "cell_type": "markdown",
   "id": "4314d1a8-c7b9-4b5a-b36c-42cf3d5cf8ca",
   "metadata": {},
   "source": [
    "### APPENDIX"
   ]
  },
  {
   "cell_type": "markdown",
   "id": "b135b7be-4b13-449c-827c-c3d5f53a4407",
   "metadata": {},
   "source": [
    "The script below creates the legend."
   ]
  },
  {
   "cell_type": "code",
   "execution_count": null,
   "id": "fa785d3b-c896-44a8-b56d-d796a1bbfbe5",
   "metadata": {},
   "outputs": [],
   "source": [
    "colors = [\"purple\", \"pink\"]\n",
    "f = lambda m,c: plt.plot([],[],marker=m, color=c, ls=\"none\")[0]\n",
    "handles = [f(\"s\", colors[i]) for i in range(2)]\n",
    "labels = [\"Healthy\", \"Patient\"]\n",
    "legend = plt.legend(handles, labels, loc=3, framealpha=1,  markerscale=2.0, prop={'size':15}, frameon=True)\n",
    "\n",
    "def export_legend(legend, filename=\"legend.png\", expand=[-5,-5,5,5]):\n",
    "    fig  = legend.figure\n",
    "    fig.canvas.draw()\n",
    "    bbox  = legend.get_window_extent()\n",
    "    bbox = bbox.from_extents(*(bbox.extents + np.array(expand)))\n",
    "    bbox = bbox.transformed(fig.dpi_scale_trans.inverted())\n",
    "    fig.savefig(filename, dpi=1000, bbox_inches=bbox)\n",
    "\n",
    "\n",
    "export_legend(legend)\n",
    "plt.axis(\"off\")\n",
    "plt.gcf().savefig(\"legend_patient_healthy.png\");"
   ]
  }
 ],
 "metadata": {
  "kernelspec": {
   "display_name": "Python 3 (ipykernel)",
   "language": "python",
   "name": "python3"
  },
  "language_info": {
   "codemirror_mode": {
    "name": "ipython",
    "version": 3
   },
   "file_extension": ".py",
   "mimetype": "text/x-python",
   "name": "python",
   "nbconvert_exporter": "python",
   "pygments_lexer": "ipython3",
   "version": "3.11.4"
  }
 },
 "nbformat": 4,
 "nbformat_minor": 5
}
